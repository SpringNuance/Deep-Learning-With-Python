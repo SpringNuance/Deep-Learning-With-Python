{
 "cells": [
  {
   "cell_type": "markdown",
   "metadata": {
    "deletable": false,
    "editable": false,
    "nbgrader": {
     "cell_type": "markdown",
     "checksum": "fb49f3f9bc16ca563b27eb7a396ee2e5",
     "grade": false,
     "grade_id": "cell-b6df414c8d03be1a",
     "locked": true,
     "schema_version": 3,
     "solution": false,
     "task": false
    }
   },
   "source": [
    "<h1><center>Python Basics</center></h1>\n",
    "\n",
    "<br>\n",
    "<br>\n",
    "<center><font size=\"3\">This notebook is a part of teaching material for CS-EJ3311 - Deep Learning with Python</font></center>\n",
    "<center><font size=\"3\">24.10.-11.12.2022</font></center>\n",
    "<center><font size=\"3\">Aalto University & FiTech.io</font></center>"
   ]
  },
  {
   "cell_type": "markdown",
   "metadata": {
    "deletable": false,
    "editable": false,
    "nbgrader": {
     "cell_type": "markdown",
     "checksum": "61e020f69c4d55611e867222dbee62f0",
     "grade": false,
     "grade_id": "cell-d69c8fec2f9d6b8d",
     "locked": true,
     "schema_version": 3,
     "solution": false,
     "task": false
    }
   },
   "source": [
    "This is an introductory Jupyter notebook, in which you will get familiar with \n",
    "\n",
    "* the Python programming language\n",
    "* using Jupyter notebooks\n",
    "* how to complete the coding assignments\n",
    "* and some mathematical notations\n",
    "\n",
    "<div class=\" alert alert-danger\">\n",
    "   <h3 align=\"center\"> <b>NOTE: This notebook is not graded. Do not submit it.</b> </h3>\n",
    "    \n",
    "</div>\n",
    "\n",
    "<a href='#python'>What is Python?</a>\\\n",
    "<a href='#nb'>Jupyter Notebooks</a>\\\n",
    "<a href='#print'>Printing output</a>\\\n",
    "<a href='#dtypes'>Basic data types in Python</a>\\\n",
    "<a href='#range'>Creating a sequence of integers</a>\\\n",
    "<a href='#iter'>Iterations</a>\\\n",
    "<a href='#udf'>User defined functions</a>\\\n",
    "<a href='#pylibs'>Python Libraries</a>\\\n",
    "<a href='#df'>Pandas Data Frames </a>\\\n",
    "<a href='#plt'>Plotting with Matplotlib</a>\\\n",
    "<a href='#numpy'>NumPy Arrays</a>\\\n",
    "<a href='#vectors'>Vectors and Matrices</a>\\\n",
    "<a href='#err'>Common Python errors</a>\\\n",
    "\\\n",
    "\\\n",
    "<a href='#STrange'><b>Student task.</b> Create sequences of integers.</a>\\\n",
    "<a href='#STloops'><b>Student task.</b> Loops.</a>\\\n",
    "<a href='#STudf'><b>Student task.</b> Power of two function.</a>\\\n",
    "<a href='#STnumpy'><b>Student task.</b> Numpy Arrays</a>\\\n",
    "<a href='#STvectors'><b>Student task.</b> Vector and Matrix operations</a>\n",
    "\n",
    "\n"
   ]
  },
  {
   "cell_type": "markdown",
   "metadata": {
    "deletable": false,
    "editable": false,
    "nbgrader": {
     "cell_type": "markdown",
     "checksum": "c23bdfaf7d3d7c3e2cf9279faaf48e7e",
     "grade": false,
     "grade_id": "cell-fef97edaeb2bc48b",
     "locked": true,
     "schema_version": 3,
     "solution": false,
     "task": false
    }
   },
   "source": [
    "<a id='python'></a>\n",
    "### <center>What is Python?</center>\n",
    "\n",
    "\n",
    "Python is a programming language used to \"give instructions\" to a computer to produce the desired actions or output. Like many other programming languages, such as Ruby, PHP, C++, and Java, Python is a [high-level programming language](https://computersciencewiki.org/index.php/Higher_level_and_lower_level_languages), which makes it easy to learn and use Python. Python is an object oriented programming language. The variables of a Python program are objects that represent data (e.g. a number, a character or an entire csv file) along with functions (methods) that can be applied to the data. As a point in case, we can represent a matrix (rectangular array of numbers) using an object of type (or class) `ndarray` (which is included in the Python library NumPy). Each `ndarray` object  contains methods for processing the matrix entries such as summing them (see [documentation](https://numpy.org/doc/stable/reference/generated/numpy.ndarray.sum.html#numpy.ndarray.sum)).   \n",
    "\n",
    "There are plenty of resources for learning basic Python, and we recommend you to utilize these if you are new to Python or programming in general. [Here](https://wiki.python.org/moin/BeginnersGuide/NonProgrammers), you can find a comprehensive list of books and courses for beginners. For example, the books [\"Automate the Boring Stuff with Python\"](https://automatetheboringstuff.com) by Al Sweigart and [\"Think Python: How to Think Like a Computer Scientist\"](http://greenteapress.com/thinkpython/html/index.html) by Allen B. Downey are freely available online and are excellent places to start. You do not need to read the whole book, as the chapters about data types, indexing, loops, and functions will provide sufficient knowledge for this course. If you prefer more interactive learning, you can find short tutorials and Python exercises that you can run in-browser [here](https://www.w3schools.com/python/python_intro.asp), amongst other places."
   ]
  },
  {
   "cell_type": "markdown",
   "metadata": {
    "deletable": false,
    "editable": false,
    "nbgrader": {
     "cell_type": "markdown",
     "checksum": "d0a90479eaecce9a0cf4d3e2638b9b6c",
     "grade": false,
     "grade_id": "cell-2f24ce273d7f1b19",
     "locked": true,
     "schema_version": 3,
     "solution": false,
     "task": false
    }
   },
   "source": [
    "<a id='nb'></a>\n",
    "### <center>Jupyter Notebooks</center>\n",
    "\n",
    "A Jupyter notebook is an open source web application that you can use to create and share documents that contain Python code blocks along with the output (text or plots) generated by the code. Moreover, a Python notebook also contains text blocks that allow to provide explanations and discussions of the Python code blocks and the corresponding outputs. Jupyter notebooks are typically edited and executed via a web application that consists of an internet browser as the user interface (where you edit and execute the notebook) and a server that runs the Python code blocks in the jupyter notebook and returns the results to the web browser. \n",
    "\n",
    "The Jupyter notebook server is not necessarily running on a remote computer but can also be installed on your own local computer. Thus, you can run notebooks locally on your computer, with properly installed Python and Jupyter notebook server. However, since we use an autograding system, you will mainly use the Jupyter server run by the Aalto department of Computer Science (https://jupyter.cs.aalto.fi/hub/login). If you are reading this, you probably successfully logged in to JupyterHub and fetched a notebook. After completing the notebook exercises, you will need to submit the latest notebook version (starting from next week notebook, do not submit notebooks  \"Python_basics.ipynb\" and \"Components_of_ML.ipynb\"). \n",
    "\n",
    "As mentioned above, a notebook consists of different types of blocks or \"cells\". The two most important types of cells are \"markdown\" cells for natural text and code cells that contain executable Python code (notebooks can also be used with other programming languages). Below you can see one example for a markdown cell and one example for a code cell."
   ]
  },
  {
   "cell_type": "markdown",
   "metadata": {
    "deletable": false,
    "editable": false,
    "nbgrader": {
     "cell_type": "markdown",
     "checksum": "7242e579cd563b3579430e5ffbbdbc58",
     "grade": false,
     "grade_id": "cell-656c5796c5c5c109",
     "locked": true,
     "schema_version": 3,
     "solution": false,
     "task": false
    }
   },
   "source": [
    "<<<<  This is markdown cell.  >>>>"
   ]
  },
  {
   "cell_type": "code",
   "execution_count": null,
   "metadata": {
    "deletable": false,
    "editable": false,
    "nbgrader": {
     "cell_type": "code",
     "checksum": "3c4e7e82a3093c973937c10b130c31ee",
     "grade": false,
     "grade_id": "cell-8e514833d8e633bc",
     "locked": true,
     "schema_version": 3,
     "solution": false,
     "task": false
    }
   },
   "outputs": [],
   "source": [
    "# This is a code cell\n",
    "# Lines which start with '#' are comments and they are ignored during code run\n",
    "\n",
    "print(\"Hello world!\")"
   ]
  },
  {
   "cell_type": "markdown",
   "metadata": {
    "deletable": false,
    "editable": false,
    "nbgrader": {
     "cell_type": "markdown",
     "checksum": "4027f6ff3ad0445e34c550cf1cee9958",
     "grade": false,
     "grade_id": "cell-9aeb3b723e5fab71",
     "locked": true,
     "schema_version": 3,
     "solution": false,
     "task": false
    }
   },
   "source": [
    "To insert/delete cell, go to 'Insert'/'Edit' tab or use keyboard shortcuts ('Help/ Keyboard Shortcuts'):\n",
    "<img src=\"../../../coursedata/Intro/pastecell.png\" style=\"height: 300px;\"/>\n",
    "\n",
    "To run cells, go to 'Cell' tab or use keyboard shortcuts:\n",
    "<img src=\"../../../coursedata/Intro/runcell.png\" style=\"height: 300px;\"/>\n",
    "\n",
    "You can find a more elaborate introduction to Jupyter notebooks [here](https://realpython.com/jupyter-notebook-introduction/)."
   ]
  },
  {
   "cell_type": "markdown",
   "metadata": {
    "deletable": false,
    "editable": false,
    "nbgrader": {
     "cell_type": "markdown",
     "checksum": "479a85ffdaded48f12be4a6fd382a4b7",
     "grade": false,
     "grade_id": "cell-473b5ddbfd050a90",
     "locked": true,
     "schema_version": 3,
     "solution": false,
     "task": false
    }
   },
   "source": [
    "<a id='print'></a>\n",
    "    \n",
    "### <center>Printing output</center>\n",
    "\n",
    "In Python, you can print output by using the `print()` function:"
   ]
  },
  {
   "cell_type": "code",
   "execution_count": null,
   "metadata": {
    "deletable": false,
    "editable": false,
    "nbgrader": {
     "cell_type": "code",
     "checksum": "5afbb344aef9596c9f44d03f9eb7e020",
     "grade": false,
     "grade_id": "cell-6853fec144ecc123",
     "locked": true,
     "schema_version": 3,
     "solution": false,
     "task": false
    }
   },
   "outputs": [],
   "source": [
    "# Assign value 42 to a variable `myvar`\n",
    "myvar = 42\n",
    "\n",
    "# Display output\n",
    "print(\"The answer is =\", myvar)\n",
    "print(f\"The answer is = {myvar+2}\")\n",
    "print(\"The answer is = {}\".format(myvar*0.5))"
   ]
  },
  {
   "cell_type": "markdown",
   "metadata": {
    "deletable": false,
    "editable": false,
    "nbgrader": {
     "cell_type": "markdown",
     "checksum": "306200feb7ec7274e9d975582666a4b4",
     "grade": false,
     "grade_id": "cell-61fe3c2d358a3558",
     "locked": true,
     "schema_version": 3,
     "solution": false,
     "task": false
    }
   },
   "source": [
    "<a id='dtypes'></a>\n",
    "    \n",
    "### <center>Basic data types in Python</center>"
   ]
  },
  {
   "cell_type": "code",
   "execution_count": null,
   "metadata": {
    "deletable": false,
    "editable": false,
    "nbgrader": {
     "cell_type": "code",
     "checksum": "ab81772160488d3e75854a9f09d1abca",
     "grade": false,
     "grade_id": "cell-e5b6d97f5d89e113",
     "locked": true,
     "schema_version": 3,
     "solution": false,
     "task": false
    }
   },
   "outputs": [],
   "source": [
    "# Numeric: integers\n",
    "myint = 42\n",
    "print(myint)\n",
    "\n",
    "# Numeric: floating-point numbers\n",
    "myfloat = 42.5\n",
    "print(myfloat)\n",
    "\n",
    "# Boolean\n",
    "mybool = 40+2 == 42\n",
    "print(\"The statement 40+2 equals 42 is\", mybool)\n",
    "\n",
    "# Strings\n",
    "mystr = \"forty two\"\n",
    "print(mystr)\n",
    "\n",
    "# Lists\n",
    "mylist = [1, 2, \"cat\", 0.5, False]\n",
    "print(mylist)\n",
    "\n",
    "# Print out data types of variables\n",
    "print(type(myint), type(myfloat), type(mybool), type(mystr), type(mylist))"
   ]
  },
  {
   "cell_type": "markdown",
   "metadata": {
    "deletable": false,
    "editable": false,
    "nbgrader": {
     "cell_type": "markdown",
     "checksum": "0f7bdc309d2c9f158bf7614a6f8a0c67",
     "grade": false,
     "grade_id": "cell-9c9983d3d540cdc5",
     "locked": true,
     "schema_version": 3,
     "solution": false,
     "task": false
    }
   },
   "source": [
    "<a id='range'></a>\n",
    "    \n",
    "### <center>Creating a sequence of integers</center>\n",
    "\n",
    "You can create a sequence of integers using the built-in functions `range(start, stop[, step])` and `list()`. See [documentation](https://docs.python.org/3/library/stdtypes.html#range) for more information. \n",
    "This built-in function creates the sequence [start, start+step, start+2*step, ...]. If the argument `step` is omitted, it defaults to 1. If the `start` argument is omitted, it defaults to 0. "
   ]
  },
  {
   "cell_type": "markdown",
   "metadata": {
    "deletable": false,
    "editable": false,
    "nbgrader": {
     "cell_type": "markdown",
     "checksum": "434b8b930c6619545fbe164a1b40fcd9",
     "grade": false,
     "grade_id": "cell-bb1c08b31779c1ea",
     "locked": true,
     "schema_version": 3,
     "solution": false,
     "task": false
    }
   },
   "source": [
    "<div class=\" alert alert-danger\"> \n",
    "    \n",
    "<center><font size=\"5\"><b>Caution!</b></font></center>\n",
    "    \n",
    "<p><center><font size=\"4\">In <code>range(stop)</code> the sequence starts from 0 and does not include stop value </font></center></p>\n",
    "    \n",
    "</div>"
   ]
  },
  {
   "cell_type": "markdown",
   "metadata": {
    "deletable": false,
    "editable": false,
    "nbgrader": {
     "cell_type": "markdown",
     "checksum": "621fa9342278637e7d6b4a6895f56bb5",
     "grade": false,
     "grade_id": "cell-c90bedbc96c2a139",
     "locked": true,
     "schema_version": 3,
     "solution": false,
     "task": false
    }
   },
   "source": [
    "Below is a blue markdown cell with an example of \"Demo\" coding exercise, which explains the task and a code cell with implementation of this task. \"Demo\" exercises also help to do \"Student task\" exercises, which are in yellow.\\\n",
    "For student tasks you need to fill out the part after `YOUR CODE HERE` expression. Often the variables names are already provided, for example:\n",
    "\n",
    "```python\n",
    "# YOUR CODE HERE\n",
    "raise NotImplementedError()\n",
    "\n",
    "# Create lists\n",
    "\n",
    "# list1 = ...\n",
    "# list2 = ...\n",
    "\n",
    "```\n",
    "\n",
    "In this case `# Create lists` is a comment to clarify the task and `# list1 = ...` and `# list2 = ...` are the lines you need to first, uncomment (remove `#`) and second, complete. In addition, you need to remove `raise NotImplementedError()` line.\n",
    "\n",
    "You will also see \"Sanity check\" cells after the student tasks. These cells are used to catch really obvious mistakes, such as returning string data type instead of float or list with wrong number of elements (length). If your answer passed these tests, \"Sanity checks passed!\" will be printed out."
   ]
  },
  {
   "cell_type": "markdown",
   "metadata": {
    "deletable": false,
    "editable": false,
    "nbgrader": {
     "cell_type": "markdown",
     "checksum": "c2a1ed52b71aaef9e5dd8d34162d9b27",
     "grade": false,
     "grade_id": "cell-d63b548fc1402719",
     "locked": true,
     "schema_version": 3,
     "solution": false,
     "task": false
    }
   },
   "source": [
    "<div class=\" alert alert-danger\"> \n",
    "    \n",
    "<center><font size=\"5\"><b>Caution!</b></font></center>\n",
    "\n",
    "<p><center><font size=\"4\">Passing sanity checks does <b>NOT</b> mean, that the task is solved correctly. You will know if the students tasks were solved correctly only after the deadline.</font></center></p>\n",
    "    \n",
    "</div>"
   ]
  },
  {
   "cell_type": "markdown",
   "metadata": {
    "deletable": false,
    "editable": false,
    "nbgrader": {
     "cell_type": "markdown",
     "checksum": "1e1a5688e25c9a7c21f08eafbeb5f419",
     "grade": false,
     "grade_id": "cell-d8f3c86091e1b19b",
     "locked": true,
     "schema_version": 3,
     "solution": false,
     "task": false
    }
   },
   "source": [
    "<div class=\" alert alert-info\">\n",
    "   <font size=\"4\"> <b>Demo.</b> Create a sequence of integers.</font>\n",
    "\n",
    "Here you can see an example of creating the sequence of integers from 0 to 10 with `range()` function. Note, that if only one number passed as input to `range(int)` function, it will create a sequence starting from `0` to `int` (not included) and step size 1.\n",
    "</div>"
   ]
  },
  {
   "cell_type": "code",
   "execution_count": null,
   "metadata": {
    "deletable": false,
    "editable": false,
    "nbgrader": {
     "cell_type": "code",
     "checksum": "4dee97f79e0da267fe7eb22ecc8cb38a",
     "grade": false,
     "grade_id": "cell-c8b5b1b0ed07f629",
     "locked": true,
     "schema_version": 3,
     "solution": false,
     "task": false
    }
   },
   "outputs": [],
   "source": [
    "from utils.styles import load_styles # custom CSS style \n",
    "\n",
    "load_styles()"
   ]
  },
  {
   "cell_type": "code",
   "execution_count": null,
   "metadata": {
    "deletable": false,
    "editable": false,
    "nbgrader": {
     "cell_type": "code",
     "checksum": "1d528aefba8f2b4de6b302e99d993d93",
     "grade": false,
     "grade_id": "cell-a7b3ccef5250d6cb",
     "locked": true,
     "schema_version": 3,
     "solution": false,
     "task": false
    }
   },
   "outputs": [],
   "source": [
    "# create a sequence (list) 0,1,...,10\n",
    "mylist = list(range(11))\n",
    "\n",
    "# print `mylist` variable and its data type\n",
    "print(\"mylist=\", mylist, \"data type =\", type(mylist))"
   ]
  },
  {
   "cell_type": "markdown",
   "metadata": {
    "deletable": false,
    "editable": false,
    "nbgrader": {
     "cell_type": "markdown",
     "checksum": "561d51dd6bd34c2a9ff7991015b5cf20",
     "grade": false,
     "grade_id": "cell-90dbfd53f637e462",
     "locked": true,
     "schema_version": 3,
     "solution": false,
     "task": false
    }
   },
   "source": [
    "<a id='STrange'></a>\n",
    "<div class=\" alert alert-warning\">\n",
    "   <font size=\"4\"> <b>Student task.</b> Create sequences of integers.</font>\n",
    "\n",
    "Your task is to create:\n",
    "1. list `list1` which stores a sequence of integers from 1 to 10 (including 10) with step size=1.\n",
    "2. list `list2` which stores a sequence of integers from 0 to 10 (including 10) with step size=2.\n",
    "    \n",
    "Lists should be created with use of `list()` and `range()` functions.\n",
    "    \n",
    "</div>"
   ]
  },
  {
   "cell_type": "code",
   "execution_count": null,
   "metadata": {
    "deletable": false,
    "nbgrader": {
     "cell_type": "code",
     "checksum": "2e3105aba79d012e46a624109d23d5ce",
     "grade": false,
     "grade_id": "cell-d9c0c36f8aa6b3c9",
     "locked": false,
     "schema_version": 3,
     "solution": true,
     "task": false
    }
   },
   "outputs": [],
   "source": [
    "# remove the line raise NotImplementedError() before testing your solution \n",
    "# YOUR CODE HERE\n",
    "raise NotImplementedError()\n",
    "\n",
    "# Create lists\n",
    "# list1 = ...\n",
    "# list2 = ...\n",
    "\n",
    "print(\"list1 = \", list1, \"\\n\",   # \"\\n\" prints empty line\n",
    "      \"list2 = \", list2)"
   ]
  },
  {
   "cell_type": "markdown",
   "metadata": {
    "deletable": false,
    "editable": false,
    "nbgrader": {
     "cell_type": "markdown",
     "checksum": "c24bc92e2c090c711449b0ee4740a8e2",
     "grade": false,
     "grade_id": "cell-946999688b0ed2c6",
     "locked": true,
     "schema_version": 3,
     "solution": false,
     "task": false
    }
   },
   "source": [
    "<details>\n",
    "    <summary>\n",
    "        <span class=\"summary-title\">Solution. Click to open.</span>\n",
    "    </summary>\n",
    "    <div class=\"summary-content\">\n",
    "        <code>list1 = list(range(1,11))</code><br>\n",
    "        <code>list2 = list(range(0,11,2))</code>\n",
    "     </div>    \n",
    "</details>"
   ]
  },
  {
   "cell_type": "markdown",
   "metadata": {
    "deletable": false,
    "editable": false,
    "nbgrader": {
     "cell_type": "markdown",
     "checksum": "4827a5363a9ade5b11b06ed4811f5520",
     "grade": false,
     "grade_id": "cell-7688225095399fab",
     "locked": true,
     "schema_version": 3,
     "solution": false,
     "task": false
    }
   },
   "source": [
    "<a id='iter'></a>\n",
    "    \n",
    "### <center>Iterations</center>"
   ]
  },
  {
   "cell_type": "code",
   "execution_count": null,
   "metadata": {
    "deletable": false,
    "editable": false,
    "nbgrader": {
     "cell_type": "code",
     "checksum": "dc2dac9c0a3e666ce8b88cf373ba8827",
     "grade": false,
     "grade_id": "cell-da2669f012a78d2b",
     "locked": true,
     "schema_version": 3,
     "solution": false,
     "task": false
    }
   },
   "outputs": [],
   "source": [
    "# create a sequence consisting of four words \n",
    "some_sequence = [\"hi\",\"how\",\"are\",\"you\"]\n",
    "\n",
    "# loop over the sequence of elements \n",
    "for word in some_sequence:\n",
    "    print(word)"
   ]
  },
  {
   "cell_type": "markdown",
   "metadata": {
    "deletable": false,
    "editable": false,
    "nbgrader": {
     "cell_type": "markdown",
     "checksum": "841cf4a9b50e63dc3bd1b94269fe3603",
     "grade": false,
     "grade_id": "cell-0a4ca6ca38407658",
     "locked": true,
     "schema_version": 3,
     "solution": false,
     "task": false
    }
   },
   "source": [
    "One of the main use of `range()` is to create loops that iterate over a sequence of values. "
   ]
  },
  {
   "cell_type": "markdown",
   "metadata": {
    "deletable": false,
    "editable": false,
    "nbgrader": {
     "cell_type": "markdown",
     "checksum": "ba9536f8234b5f9c9bff2078341c05f6",
     "grade": false,
     "grade_id": "cell-d516deb409563144",
     "locked": true,
     "schema_version": 3,
     "solution": false,
     "task": false
    }
   },
   "source": [
    "<div class=\" alert alert-danger\"> \n",
    "    \n",
    "<center><font size=\"5\"><b>Caution!</b></font></center>\n",
    "\n",
    "<p><center><font size=\"4\">Indexing in Python starts by default at 0 (and not at 1!)</font></center></p>\n",
    "    \n",
    "</div>"
   ]
  },
  {
   "cell_type": "code",
   "execution_count": null,
   "metadata": {
    "deletable": false,
    "editable": false,
    "nbgrader": {
     "cell_type": "code",
     "checksum": "7a3f4b2b2520c2d65cb9a5b2761a0188",
     "grade": false,
     "grade_id": "cell-8ce6fd54256c18e9",
     "locked": true,
     "schema_version": 3,
     "solution": false,
     "task": false
    }
   },
   "outputs": [],
   "source": [
    "# create a sequence consisting of four words\n",
    "some_sequence =  [\"hi\",\"how\",\"are\",\"you\"]\n",
    "# find the length of the list\n",
    "length = len(some_sequence)\n",
    "\n",
    "# loop over the sequence of indices (0,1,2,3)\n",
    "for i in range(length):\n",
    "    print(\"index: {} value: {}\".format(i, some_sequence[i]))  "
   ]
  },
  {
   "cell_type": "code",
   "execution_count": null,
   "metadata": {
    "deletable": false,
    "editable": false,
    "nbgrader": {
     "cell_type": "code",
     "checksum": "8fdb1cf1ee710c80843c56f06eaedd34",
     "grade": false,
     "grade_id": "cell-6c7faaa21fbc5f42",
     "locked": true,
     "schema_version": 3,
     "solution": false,
     "task": false
    }
   },
   "outputs": [],
   "source": [
    "# Nested for-loops\n",
    "\n",
    "# create a list \n",
    "mylist = [[1,2,3],[4,5,6],[7,8,9]]\n",
    "\n",
    "# outer loop\n",
    "for i in range(len(mylist)):\n",
    "    print(\"\\nouter loop, iteration: {}  values: {}\\n \".format(i, mylist[i]))\n",
    "    \n",
    "    # inner loop\n",
    "    for j in range(len(mylist[i])):\n",
    "        print(\"inner loop, iteration: {}  value: {} \".format(j, mylist[i][j]))"
   ]
  },
  {
   "cell_type": "code",
   "execution_count": null,
   "metadata": {
    "deletable": false,
    "editable": false,
    "nbgrader": {
     "cell_type": "code",
     "checksum": "a76a84d8ee9726728cc951fdffc96dba",
     "grade": false,
     "grade_id": "cell-19f6f6cb7f429081",
     "locked": true,
     "schema_version": 3,
     "solution": false,
     "task": false
    }
   },
   "outputs": [],
   "source": [
    "# Iterating with enumerate() Python function\n",
    "# It takes as an input iterable object and returns tuple in a form of (index, element) \n",
    "\n",
    "# create a list \n",
    "some_sequence =  [\"hi\",\"how\",\"are\",\"you\"]\n",
    "\n",
    "# loop over elements of a list \n",
    "for index, value in enumerate(some_sequence):\n",
    "    print(\"index: {} value: {}\".format(index, value))  "
   ]
  },
  {
   "cell_type": "markdown",
   "metadata": {
    "deletable": false,
    "editable": false,
    "nbgrader": {
     "cell_type": "markdown",
     "checksum": "42e70b6b82dcc8c35fcc46768ffbecf0",
     "grade": false,
     "grade_id": "cell-cb7c004f64222ced",
     "locked": true,
     "schema_version": 3,
     "solution": false,
     "task": false
    }
   },
   "source": [
    "If you need to iterate over two sequences of the same size, you can use the built-in function `zip()`"
   ]
  },
  {
   "cell_type": "code",
   "execution_count": null,
   "metadata": {
    "deletable": false,
    "editable": false,
    "nbgrader": {
     "cell_type": "code",
     "checksum": "3a7ccf468100a58855bbf4fe59595209",
     "grade": false,
     "grade_id": "cell-0144c9d668749bac",
     "locked": true,
     "schema_version": 3,
     "solution": false,
     "task": false
    }
   },
   "outputs": [],
   "source": [
    "# Iterating multiple lists with zip()\n",
    "\n",
    "# create lists\n",
    "some_sequence =  [\"one\",\"two\",\"three\",\"four\"]\n",
    "another_sequence =  [\"eins\",\"zwei\",\"drei\",\"vier\"]\n",
    "\n",
    "# loop over two lists at the same time\n",
    "for val1, val2 in zip(some_sequence, another_sequence):\n",
    "    print(val1, val2)"
   ]
  },
  {
   "cell_type": "code",
   "execution_count": null,
   "metadata": {
    "deletable": false,
    "editable": false,
    "nbgrader": {
     "cell_type": "code",
     "checksum": "b2469499af40e3ab8bb1a27d665e9672",
     "grade": false,
     "grade_id": "cell-51356f39e06daece",
     "locked": true,
     "schema_version": 3,
     "solution": false,
     "task": false
    }
   },
   "outputs": [],
   "source": [
    "# Iterating multiple lists with zip() and enumerate()\n",
    "\n",
    "# create lists\n",
    "some_sequence =  [\"one\",\"two\",\"three\",\"four\"]\n",
    "another_sequence =  [\"eins\",\"zwei\",\"drei\",\"vier\"]\n",
    "\n",
    "# loop over two lists at the same time\n",
    "for ind, (val1, val2) in enumerate(zip(some_sequence, another_sequence)):\n",
    "    print(\"index: {} \\nmylist1: {}, mylist2: {}\".format(ind, val1, val2))  "
   ]
  },
  {
   "cell_type": "markdown",
   "metadata": {
    "deletable": false,
    "editable": false,
    "nbgrader": {
     "cell_type": "markdown",
     "checksum": "40a19a4cfefb1de9b21965e6eb95b9f9",
     "grade": false,
     "grade_id": "cell-95940480e77b5c07",
     "locked": true,
     "schema_version": 3,
     "solution": false,
     "task": false
    }
   },
   "source": [
    "<a id='STloops'></a>\n",
    "<div class=\" alert alert-warning\">\n",
    "   <font size=\"4\"> <b>Student task.</b> Loops.</font>\n",
    "    \n",
    "Write a Python program to count the number of even and odd numbers from a list of numbers. Store results in variables `odd_count` and `even_count`. \n",
    "    \n",
    "Hints: (1) use for-loops and [if-else](https://www.w3schools.com/python/python_conditions.asp) statements, (2) operator `%` is [modulo operator](https://www.freecodecamp.org/news/the-python-modulo-operator-what-does-the-symbol-mean-in-python-solved/) in Python. It's used to get the remainder of a division.\n",
    "    \n",
    "</div>"
   ]
  },
  {
   "cell_type": "code",
   "execution_count": null,
   "metadata": {
    "deletable": false,
    "nbgrader": {
     "cell_type": "code",
     "checksum": "247ed14e3be6c5e8db3e83fdb4424512",
     "grade": false,
     "grade_id": "cell-257c00e1cd677f01",
     "locked": false,
     "schema_version": 3,
     "solution": true,
     "task": false
    }
   },
   "outputs": [],
   "source": [
    "# create a sequence of numbers\n",
    "numbers = [1, 2, 3, 4, 5, 6, 7, 8, 9]\n",
    "\n",
    "# initialize variables\n",
    "odd_count = 0\n",
    "even_count = 0\n",
    "\n",
    "# remove the line raise NotImplementedError() before testing your solution and submitting code\n",
    "# YOUR CODE HERE\n",
    "raise NotImplementedError()\n",
    "\n",
    "print(\"Number of even numbers :\", even_count)\n",
    "print(\"Number of odd numbers :\", odd_count)"
   ]
  },
  {
   "cell_type": "markdown",
   "metadata": {
    "deletable": false,
    "editable": false,
    "nbgrader": {
     "cell_type": "markdown",
     "checksum": "366cea0ad11e24e45d56ab56b8e4b49a",
     "grade": false,
     "grade_id": "cell-657002eed01282df",
     "locked": true,
     "schema_version": 3,
     "solution": false,
     "task": false
    }
   },
   "source": [
    "<details>\n",
    "    <summary>\n",
    "        <span class=\"summary-title\">Solution. Click to open.</span>\n",
    "    </summary>\n",
    "    <div class=\"summary-content\">\n",
    "        \n",
    "```python\n",
    "for num in numbers:\n",
    "    if not num%2:\n",
    "        even_count+=1\n",
    "    else:\n",
    "        odd_count+=1\n",
    "```\n",
    "</div>    \n",
    "</details>"
   ]
  },
  {
   "cell_type": "markdown",
   "metadata": {
    "deletable": false,
    "editable": false,
    "nbgrader": {
     "cell_type": "markdown",
     "checksum": "f12564f51aac956a6468570b4aab767a",
     "grade": false,
     "grade_id": "cell-9de89a3b1eaf498e",
     "locked": true,
     "schema_version": 3,
     "solution": false,
     "task": false
    }
   },
   "source": [
    "<a id=udf></a>\n",
    "    \n",
    "### <center>User-Defined Functions</center>\n",
    "\n",
    "Like in other programming languages, user can define their own functions in Python. The basic syntax for Python function contain `def` and `return` expressions. \n",
    "\n",
    "<img src=\"../../../coursedata/Intro/udf.png\" width=600px/>\n",
    "\n",
    "The code snippet below shows how to define a function `multiply()` which reads in two arguments `x`and `y`. This function computes the product of the arguments and returns it. "
   ]
  },
  {
   "cell_type": "code",
   "execution_count": null,
   "metadata": {
    "deletable": false,
    "editable": false,
    "nbgrader": {
     "cell_type": "code",
     "checksum": "fb3a91e9810a73e3b099f76ef8aa1466",
     "grade": false,
     "grade_id": "cell-259df45c0e1874a5",
     "locked": true,
     "schema_version": 3,
     "solution": false,
     "task": false
    }
   },
   "outputs": [],
   "source": [
    "# define a function\n",
    "def multiply(x,y):\n",
    "    '''   \n",
    "    this function takes input x and y\n",
    "    and returns multiplication of x and y\n",
    "   \n",
    "    '''\n",
    "    \n",
    "    # perform computation\n",
    "    out = x*y\n",
    "    \n",
    "    return out\n",
    "\n",
    "# apply the function \n",
    "y = multiply(2,3)\n",
    "\n",
    "# print the result \n",
    "print(y)\n",
    "# print the data type of the result\n",
    "print(type(y))"
   ]
  },
  {
   "cell_type": "markdown",
   "metadata": {
    "deletable": false,
    "editable": false,
    "nbgrader": {
     "cell_type": "markdown",
     "checksum": "32db28a2dfef2065c1c64d9605be4bd1",
     "grade": false,
     "grade_id": "cell-db5b76518b6c1c42",
     "locked": true,
     "schema_version": 3,
     "solution": false,
     "task": false
    }
   },
   "source": [
    "<a id='STudf'></a>\n",
    "<div class=\" alert alert-warning\">\n",
    "   <font size=\"4\"> <b>Student task.</b> Power of two function.</font>\n",
    "\n",
    "\n",
    "Your task is to write Python function `power_of_two()`, which takes as input integer, and returns list `out` of power of two values, e.g. for `power_of_two(3)` variable `out` should be a list `out=[2,4,8]`. Length of the list should be equal to the input integer.\n",
    "\n",
    "</div>"
   ]
  },
  {
   "cell_type": "code",
   "execution_count": null,
   "metadata": {
    "deletable": false,
    "nbgrader": {
     "cell_type": "code",
     "checksum": "fc839e430c44797acdb638f5aacfa7c4",
     "grade": false,
     "grade_id": "cell-155acbf04747500a",
     "locked": false,
     "schema_version": 3,
     "solution": true,
     "task": false
    }
   },
   "outputs": [],
   "source": [
    "# remove the line raise NotImplementedError() before testing your solution and submitting code\n",
    "# YOUR CODE HERE\n",
    "raise NotImplementedError()\n",
    "\n",
    "out = power_of_two(5)\n",
    "print(out)"
   ]
  },
  {
   "cell_type": "markdown",
   "metadata": {
    "deletable": false,
    "editable": false,
    "nbgrader": {
     "cell_type": "markdown",
     "checksum": "e23b3475533ab7f4316a415bb4022cc1",
     "grade": false,
     "grade_id": "cell-a7545fbec52d574d",
     "locked": true,
     "schema_version": 3,
     "solution": false,
     "task": false
    }
   },
   "source": [
    "<details>\n",
    "    <summary>\n",
    "        <span class=\"summary-title\">Solution. Click to open.</span>\n",
    "    </summary>\n",
    "    <div class=\"summary-content\">\n",
    "        \n",
    "```python\n",
    "def power_of_two(n):\n",
    "    out = [ 2**i for i in range(1,n+1) ]\n",
    "    return out\n",
    "```\n",
    "</div>    "
   ]
  },
  {
   "cell_type": "markdown",
   "metadata": {
    "deletable": false,
    "editable": false,
    "nbgrader": {
     "cell_type": "markdown",
     "checksum": "010a50a19da4d1d9edf054ab5cfad43f",
     "grade": false,
     "grade_id": "cell-d815a1668242532a",
     "locked": true,
     "schema_version": 3,
     "solution": false,
     "task": false
    }
   },
   "source": [
    "<a id='pylibs'></a>\n",
    "    \n",
    "### <center>Python Libraries</center>\n",
    "\n",
    "Python programs can import functions from libraries or so-called packages. Some of the most commonly used Python libraries are:\n",
    "\n",
    "\n",
    "**NumPy** - (Numerical Python) for operations involving arrays of numbers. One-dimensional NumPy arrays are used to represent Euclidean vectors. Two-dimensional NumPy arrays can represent matrices and higher-dimensional arrays represent tensors.\n",
    "\n",
    "https://numpy.org/\n",
    "\n",
    "\n",
    "**Pandas** - A library for loading, analyzing, and manipulating data.\n",
    "\n",
    "https://pandas.pydata.org/docs/\n",
    "\n",
    "\n",
    "**Matplotlib** - A library for data visualization containing many useful tools, e.g., for plotting time series or images. \n",
    "\n",
    "https://matplotlib.org/3.1.1/contents.html\n",
    "\n",
    "\n",
    "**Scikit-learn** - A library containing implementations of several traditional machine learning methods, such as linear regression, decision trees, and clustering methods. \n",
    "\n",
    "https://scikit-learn.org/stable/\n",
    "\n"
   ]
  },
  {
   "cell_type": "markdown",
   "metadata": {
    "deletable": false,
    "editable": false,
    "nbgrader": {
     "cell_type": "markdown",
     "checksum": "5cdb2c9f53bb20a9ee9b36745c1d9fc3",
     "grade": false,
     "grade_id": "cell-8ec15e8077b8ec87",
     "locked": true,
     "schema_version": 3,
     "solution": false,
     "task": false
    }
   },
   "source": [
    "<b><center><font size=4>How To Use A Python Library</font></center></b>\n",
    " \n",
    "In order to use functions/classes provided by a library, it must first be imported via the command\n",
    "\n",
    "`import <library name> as <short name>`\n",
    "\n",
    "For example, the statement\n",
    "\n",
    "`import numpy as np`\n",
    "\n",
    "imports `numpy` module under the name `np`.\n",
    "\n",
    "Missing imports of libraries are the main cause of error message\n",
    "\n",
    "`NameError: <short name> is not defined`\n",
    "\n",
    "The error message\n",
    "\n",
    "`NameError: np is not defined`\n",
    "\n",
    "arises if a function of a library \"np\" is used, where the library has not been imported beforehand. "
   ]
  },
  {
   "cell_type": "markdown",
   "metadata": {
    "deletable": false,
    "editable": false,
    "nbgrader": {
     "cell_type": "markdown",
     "checksum": "e1be38d5dade5e77f2678b0590dec2da",
     "grade": false,
     "grade_id": "cell-9ffd65632dfca1e5",
     "locked": true,
     "schema_version": 3,
     "solution": false,
     "task": false
    }
   },
   "source": [
    "<a id=df></a>\n",
    "    \n",
    "### <center>Pandas DataFrames</center>\n",
    "\n",
    "The library `Pandas` provides the class (object type) `DataFrame`. A `DataFrame`is a two-dimensional (with rows and columns) tabular structure. Dataframes are convenient for storing and manipulating heterogeneous data such mixtures of numeric and text data. "
   ]
  },
  {
   "cell_type": "code",
   "execution_count": null,
   "metadata": {
    "deletable": false,
    "editable": false,
    "nbgrader": {
     "cell_type": "code",
     "checksum": "0b59da340f3119a6f39571e23587fbb0",
     "grade": false,
     "grade_id": "cell-65a9fc72d3dd5b7a",
     "locked": true,
     "schema_version": 3,
     "solution": false,
     "task": false
    }
   },
   "outputs": [],
   "source": [
    "# import 'pandas' library\n",
    "import pandas as pd\n",
    "\n",
    "# createa  dictionary\n",
    "mydict = {'animal':['cat', 'dog','mouse','rat', 'cat'],\n",
    "         'name':['Fluffy','Chewy','Squeaky','Spotty', 'Diablo'],\n",
    "         'age, years': [3,5,0.5,1,8]}\n",
    "\n",
    "# create a dataframe from dictionary\n",
    "df = pd.DataFrame(mydict, index=['id1','id2','id3','id4','id5'])\n",
    "df"
   ]
  },
  {
   "cell_type": "code",
   "execution_count": null,
   "metadata": {
    "deletable": false,
    "editable": false,
    "nbgrader": {
     "cell_type": "code",
     "checksum": "c33cb2fea54ce291c34b2ac212765da8",
     "grade": false,
     "grade_id": "cell-8d4a7dfcdc5a6c2e",
     "locked": true,
     "schema_version": 3,
     "solution": false,
     "task": false
    }
   },
   "outputs": [],
   "source": [
    "# Accessing DataFrame elements\n",
    "\n",
    "# access row by name with .loc \n",
    "print(df.loc['id1'])\n",
    "\n",
    "# access row by index with .iloc \n",
    "print('\\n', df.iloc[0])"
   ]
  },
  {
   "cell_type": "code",
   "execution_count": null,
   "metadata": {
    "deletable": false,
    "editable": false,
    "nbgrader": {
     "cell_type": "code",
     "checksum": "f08cc8da426bda8b13944289b7bcb520",
     "grade": false,
     "grade_id": "cell-b1ce36fcd44735b7",
     "locked": true,
     "schema_version": 3,
     "solution": false,
     "task": false
    }
   },
   "outputs": [],
   "source": [
    "# access column by name with .loc \n",
    "print(df.loc[:,'animal'])\n",
    "\n",
    "# accsss column by name without .loc \n",
    "print('\\n', df['animal'])\n",
    "\n",
    "# access column by index with .iloc \n",
    "print('\\n', df.iloc[:,0])"
   ]
  },
  {
   "cell_type": "code",
   "execution_count": null,
   "metadata": {
    "deletable": false,
    "editable": false,
    "nbgrader": {
     "cell_type": "code",
     "checksum": "a6b9130a65fd66d5ae6f0b18661b8f8e",
     "grade": false,
     "grade_id": "cell-1db43e279383808f",
     "locked": true,
     "schema_version": 3,
     "solution": false,
     "task": false
    }
   },
   "outputs": [],
   "source": [
    "# access specific row and columns by name with .loc\n",
    "print(df.loc['id1',['animal','name']])\n",
    "\n",
    "# access specific row and columns by index with .iloc\n",
    "print('\\n', df.iloc[0,[0,1]])"
   ]
  },
  {
   "cell_type": "code",
   "execution_count": null,
   "metadata": {
    "deletable": false,
    "editable": false,
    "nbgrader": {
     "cell_type": "code",
     "checksum": "6256062f8c46fe51f04d1ad8e044b6bf",
     "grade": false,
     "grade_id": "cell-638488df06d1bb32",
     "locked": true,
     "schema_version": 3,
     "solution": false,
     "task": false
    }
   },
   "outputs": [],
   "source": [
    "# select subset of data with boolean indexing\n",
    "\n",
    "# select pets with age <= 4\n",
    "print(df[df[\"age, years\"]<=4])\n",
    "print(\"\\n\") # print empty line\n",
    "\n",
    "# select only cats\n",
    "print(df[df[\"animal\"]==\"cat\"])\n",
    "print(\"\\n\") # print empty line\n",
    "\n",
    "# select cats and dogs by using \"|\" operator (equivalent to `OR` opeartor) \n",
    "print(df[(df[\"animal\"]==\"cat\") | (df[\"animal\"]==\"dog\")])"
   ]
  },
  {
   "cell_type": "code",
   "execution_count": null,
   "metadata": {
    "deletable": false,
    "editable": false,
    "nbgrader": {
     "cell_type": "code",
     "checksum": "c8d3f98a8c9f9eb61d537680dc5693cb",
     "grade": false,
     "grade_id": "cell-21093ec875d09efd",
     "locked": true,
     "schema_version": 3,
     "solution": false,
     "task": false
    }
   },
   "outputs": [],
   "source": [
    "# load .csv file by using pandas DataFrame structure\n",
    "df = pd.read_csv('../../../coursedata/Intro//Data.csv')\n",
    "\n",
    "# check the shape of the dataframe\n",
    "print(\"Shape of the dataframe: \",df.shape)\n",
    "print(\"Number of dataframe rows: \",df.shape[0])\n",
    "print(\"Number of dataframe columns: \",df.shape[1])\n",
    "\n",
    "# print first 5 rows \n",
    "df.head()"
   ]
  },
  {
   "cell_type": "code",
   "execution_count": null,
   "metadata": {
    "deletable": false,
    "editable": false,
    "nbgrader": {
     "cell_type": "code",
     "checksum": "669e3b3b935cba77438dd8e969ec6fd1",
     "grade": false,
     "grade_id": "cell-dbe8ef2973f50ec9",
     "locked": true,
     "schema_version": 3,
     "solution": false,
     "task": false
    }
   },
   "outputs": [],
   "source": [
    "# Convert dataframe to numpy array\n",
    "\n",
    "# DataFrame.values return a Numpy representation of the DataFrame.\n",
    "X = df.values\n",
    "X"
   ]
  },
  {
   "cell_type": "markdown",
   "metadata": {
    "deletable": false,
    "editable": false,
    "nbgrader": {
     "cell_type": "markdown",
     "checksum": "d0b02c7846a7edc492d6cee3708a90a5",
     "grade": false,
     "grade_id": "cell-7d55c2deda9623e0",
     "locked": true,
     "schema_version": 3,
     "solution": false,
     "task": false
    }
   },
   "source": [
    "With `pd.read_<format name>` it is possible to read also excel, json, html, sql and many others types of files:\n",
    "\n",
    "https://pandas.pydata.org/pandas-docs/stable/reference/io.html"
   ]
  },
  {
   "cell_type": "markdown",
   "metadata": {
    "deletable": false,
    "editable": false,
    "nbgrader": {
     "cell_type": "markdown",
     "checksum": "e6abf72aca74e0b14dff109fccae89da",
     "grade": false,
     "grade_id": "cell-c35ca70dd374d5c4",
     "locked": true,
     "schema_version": 3,
     "solution": false,
     "task": false
    }
   },
   "source": [
    "<a id=plt></a>\n",
    "\n",
    "### <center>Plotting with Matplotlib</center>\n",
    "\n",
    "Matplotlib is a library that provides plotting functionality for Python. Good introductory tutorials for Matplotlib can be found at https://matplotlib.org/tutorials/index.html.\n",
    "\n",
    "A useful command for creating a plot in Python is \n",
    "\n",
    "`fig, axes = plt.subplots()`\n",
    "\n",
    "`plt.subplots()` returns figure and axes (Axes object or array of Axes objects)."
   ]
  },
  {
   "cell_type": "code",
   "execution_count": null,
   "metadata": {
    "deletable": false,
    "editable": false,
    "nbgrader": {
     "cell_type": "code",
     "checksum": "9931580e9ce7534f9475376269a3a818",
     "grade": false,
     "grade_id": "cell-93e066ab0770875c",
     "locked": true,
     "schema_version": 3,
     "solution": false,
     "task": false
    }
   },
   "outputs": [],
   "source": [
    "# Plotting line and scatter plot\n",
    "\n",
    "# the library provides functions for plotting data \n",
    "import matplotlib.pyplot as plt\n",
    "# the library provides operations involving arrays of numbers\n",
    "import numpy as np\n",
    "\n",
    "# set random state for reproducibility when using `np.random.rand()`\n",
    "np.random.seed(42)\n",
    "\n",
    "# create data for 1st subplot: quadratic function\n",
    "x1 = np.linspace(10,100,50)\n",
    "y1 = x1**2\n",
    "\n",
    "# create data for 2nd subplot: realizations of a Gaussian random variable \n",
    "x2 = np.random.rand(100,)\n",
    "y2 = np.random.rand(100,)\n",
    "\n",
    "# create figure and axes objects\n",
    "fig, axes = plt.subplots(1,2)\n",
    "# plot a line in 1st subplot\n",
    "axes[0].plot(x1,y1,c='r')\n",
    "# plot scatter in 2nd subplot\n",
    "axes[1].scatter(x2,y2)\n",
    "\n",
    "# set axes labels for 1st subplot \n",
    "axes[0].set_xlabel(\"x1\")\n",
    "axes[0].set_ylabel(\"y1\")\n",
    "# set axes labels for 2nd subplot \n",
    "axes[1].set_xlabel(\"x2\")\n",
    "axes[1].set_ylabel(\"y2\")\n",
    "# set titles\n",
    "axes[0].set_title('plot 1')\n",
    "axes[1].set_title('plot 2')\n",
    "\n",
    "# adjust subplots so the labels of different axes are not overlapping \n",
    "fig.tight_layout()\n",
    "# display plot\n",
    "plt.show()"
   ]
  },
  {
   "cell_type": "code",
   "execution_count": null,
   "metadata": {
    "deletable": false,
    "editable": false,
    "nbgrader": {
     "cell_type": "code",
     "checksum": "3b47814d846309f7a891244e11bef189",
     "grade": false,
     "grade_id": "cell-5eadff7a07e918f5",
     "locked": true,
     "schema_version": 3,
     "solution": false,
     "task": false
    }
   },
   "outputs": [],
   "source": [
    "# Plotting 2D plot with meshgrid \n",
    "\n",
    "# create numpy arrays\n",
    "x = np.arange(-5, 5, 1)\n",
    "y = np.arange(-5, 5, 1)\n",
    "\n",
    "# create the grid\n",
    "xx, yy = np.meshgrid(x, y)\n",
    "\n",
    "# plot the grid \n",
    "plt.plot(xx,yy,marker='.', color='k', linestyle='none')\n",
    "\n",
    "# set axes labels \n",
    "plt.xlabel(\"x\")\n",
    "plt.ylabel(\"y\")\n",
    "# set title\n",
    "plt.title('xy grid', fontweight='bold')\n",
    "\n",
    "# display the plot\n",
    "plt.show()"
   ]
  },
  {
   "cell_type": "markdown",
   "metadata": {
    "deletable": false,
    "editable": false,
    "nbgrader": {
     "cell_type": "markdown",
     "checksum": "69aa62b757b2315c0bf97f4ab56dfc30",
     "grade": false,
     "grade_id": "cell-067750ac99e6b1d6",
     "locked": true,
     "schema_version": 3,
     "solution": false,
     "task": false
    }
   },
   "source": [
    "<a id=numpy></a>\n",
    "    \n",
    "### <center>NumPy Arrays</center>\n",
    "\n",
    "The Python library NumPy provides implementations of many matrix operations as well as other useful features, such as random number generators. Many functions of this library are based on the data type \"numpy array\". A numpy array is an object that stores $N$-dimensional arrays of numbers, where $N$ is the number of dimensions. The shape of a numpy array is given by a sequence of $N$ integers that indicate the number of \"elements\" in each dimension. Maybe the most important special case of numpy arrays is when $N=1$, corresponding to **vectors**, or when $N=2$ for **matrices**. A matrix with $5$ rows and $2$ columns is represented by a numpy array of shape $(5,2)$. \n",
    "\n",
    "Some additional resources to learn more about NumPy arrays and related operations can be found here:\n",
    "\n",
    "NumPy library page - https://numpy.org/\n",
    "\n",
    "Learn NumPy in 5 minutes video- https://www.youtube.com/watch?v=xECXZ3tyONo\n",
    "\n",
    "Using NumPy arrays allows for **vectorized computation** which allows, in turn, faster code execution: \n",
    "\n",
    "https://www.pythonlikeyoumeanit.com/Module3_IntroducingNumpy/VectorizedOperations.html\n",
    "\n",
    "https://www.oreilly.com/library/view/python-for-data/9781449323592/ch04.html"
   ]
  },
  {
   "cell_type": "markdown",
   "metadata": {
    "deletable": false,
    "editable": false,
    "nbgrader": {
     "cell_type": "markdown",
     "checksum": "27ca9616e015706a0b5891d76ffa8149",
     "grade": false,
     "grade_id": "cell-b8cbd144078da0ce",
     "locked": true,
     "schema_version": 3,
     "solution": false,
     "task": false
    }
   },
   "source": [
    "**<center><font size=\"4\">Different ways to create NumPy Arrays</font></center>**"
   ]
  },
  {
   "cell_type": "code",
   "execution_count": null,
   "metadata": {
    "deletable": false,
    "editable": false,
    "nbgrader": {
     "cell_type": "code",
     "checksum": "8efbbf2d85f5edad69ea192cba70a263",
     "grade": false,
     "grade_id": "cell-c5733664b0af1321",
     "locked": true,
     "schema_version": 3,
     "solution": false,
     "task": false
    }
   },
   "outputs": [],
   "source": [
    "# convert a sequence 0,1,..,9 to a numpy array `myarray1`\n",
    "mylist  = [0,1,2,3,4,5,6,7,8,9]\n",
    "myarray1 = np.array(mylist)\n",
    "\n",
    "# use range() to create a numpy array\n",
    "myarray2 = np.array(range(10))\n",
    "\n",
    "# use np.arange() function to create a numpy array\n",
    "myarray3 = np.arange(10)\n",
    "\n",
    "# print values of the arrays\n",
    "myarray1, myarray2, myarray3"
   ]
  },
  {
   "cell_type": "code",
   "execution_count": null,
   "metadata": {
    "deletable": false,
    "editable": false,
    "nbgrader": {
     "cell_type": "code",
     "checksum": "8ed8ea5fd43b21c47ea506c5258e5722",
     "grade": false,
     "grade_id": "cell-52f35b0054f7e785",
     "locked": true,
     "schema_version": 3,
     "solution": false,
     "task": false
    }
   },
   "outputs": [],
   "source": [
    "# create an array (6 rows, 3 columns) with zeros\n",
    "zeroarray = np.zeros((4,3)) \n",
    "\n",
    "# create an array (6 rows, 3 columns) with ones\n",
    "onesarray = np.ones((4,3))\n",
    "\n",
    "print(zeroarray,'\\n')\n",
    "print(onesarray)"
   ]
  },
  {
   "cell_type": "code",
   "execution_count": null,
   "metadata": {
    "deletable": false,
    "editable": false,
    "nbgrader": {
     "cell_type": "code",
     "checksum": "0e555646cf991b6443e503c2411c675f",
     "grade": false,
     "grade_id": "cell-56f604145d95e849",
     "locked": true,
     "schema_version": 3,
     "solution": false,
     "task": false
    }
   },
   "outputs": [],
   "source": [
    "# Pass lists directly to create 2D array\n",
    "myarray = np.array([[1,2,3], [4,5,6]])\n",
    "\n",
    "# Check the array dimensions with .shape attribute (rows, columns)\n",
    "print(\"Number of rows: {} \\nNumber of columns: {}\".format(myarray.shape[0], myarray.shape[1]))\n",
    "print(myarray)"
   ]
  },
  {
   "cell_type": "markdown",
   "metadata": {
    "deletable": false,
    "editable": false,
    "nbgrader": {
     "cell_type": "markdown",
     "checksum": "586c54c4167ed681ad1d1c9d18c8bac8",
     "grade": false,
     "grade_id": "cell-ed25842a89985769",
     "locked": true,
     "schema_version": 3,
     "solution": false,
     "task": false
    }
   },
   "source": [
    "<div class=\" alert alert-danger\"> \n",
    "    \n",
    "<center><font size=\"5\"><b>Caution!</b></font></center>\n",
    "    \n",
    "<p><center><font size=\"4\">A numpy array of shape (n,1) is different from a numpy array of shape (n,) !</font></center></p>\n",
    "       \n",
    "</div>"
   ]
  },
  {
   "cell_type": "code",
   "execution_count": null,
   "metadata": {
    "deletable": false,
    "editable": false,
    "nbgrader": {
     "cell_type": "code",
     "checksum": "0fb0f45399232a88cacaae13e35c70d9",
     "grade": false,
     "grade_id": "cell-a8670efb8194690a",
     "locked": true,
     "schema_version": 3,
     "solution": false,
     "task": false
    }
   },
   "outputs": [],
   "source": [
    "# Note! Array of shape (n,1) is not equal to the array of shape (n,)\n",
    "# Use .shape attribute to check the array's dimensions\n",
    "# Use .reshape() function to get the array with desired dimensions\n",
    "\n",
    "myarray1 = np.array(range(10))\n",
    "myarray2 = np.array(range(10)).reshape(-1,1)\n",
    "\n",
    "print(\"`myarray1` is\",  myarray1.ndim,\"- dimensional np.array of shape\", myarray1.shape)\n",
    "print(\"`myarray2` is\",  myarray2.ndim,\"- dimensional np.array of shape\", myarray2.shape)"
   ]
  },
  {
   "cell_type": "markdown",
   "metadata": {
    "deletable": false,
    "editable": false,
    "nbgrader": {
     "cell_type": "markdown",
     "checksum": "2fb11418575e3118878c28dd068d5a3e",
     "grade": false,
     "grade_id": "cell-5d49376e0e6a4ffa",
     "locked": true,
     "schema_version": 3,
     "solution": false,
     "task": false
    }
   },
   "source": [
    "**<center><font size=\"4\">Slicing and Combining NumPy Arrays</font></center>**"
   ]
  },
  {
   "cell_type": "code",
   "execution_count": null,
   "metadata": {
    "deletable": false,
    "editable": false,
    "nbgrader": {
     "cell_type": "code",
     "checksum": "792d552b044de5e0c7ec68b444d5cd1b",
     "grade": false,
     "grade_id": "cell-21134f44512b69b0",
     "locked": true,
     "schema_version": 3,
     "solution": false,
     "task": false
    }
   },
   "outputs": [],
   "source": [
    "# Access element of the array by index\n",
    "# Note! Indexing starts with 0\n",
    "\n",
    "# 1D array\n",
    "myarray = np.arange(10,0,-1)\n",
    "print(\"Array: \", myarray)\n",
    "print(\"First element of the array: {}\\n\".format(myarray[0]))\n",
    "\n",
    "# 2D array\n",
    "myarray = np.array([[1,2,3],[4,5,6]])\n",
    "print(\"Array:\\n\", myarray)\n",
    "print(\"2nd row, 3rd column element of the array: {}\\n\".format(myarray[1,2]))\n",
    "\n",
    "# Conditional indexing - print values of the array larger than 2\n",
    "myarray = np.array([[1,2,3],[4,5,6]])\n",
    "print(\"Array:\\n\", myarray)\n",
    "print(\"Values >2: {}\\n\".format(myarray[myarray>2]))"
   ]
  },
  {
   "cell_type": "code",
   "execution_count": null,
   "metadata": {
    "deletable": false,
    "editable": false,
    "nbgrader": {
     "cell_type": "code",
     "checksum": "3166023f5c315b63aaa5166a7a7c46bf",
     "grade": false,
     "grade_id": "cell-102350092c79e829",
     "locked": true,
     "schema_version": 3,
     "solution": false,
     "task": false
    }
   },
   "outputs": [],
   "source": [
    "# Slicing numpy array\n",
    "# create numpy array with shape=(4,5)\n",
    "myarray = np.arange(20).reshape(4,5)\n",
    "\n",
    "# print the values of the array\n",
    "print('\\n',myarray, \"   array shape is \", myarray.shape)\n",
    "# print the values of the array located at the rows 1,2 and columns 2,3\n",
    "print(\"\\nSliced array:\\n\", myarray[:2,1:3])"
   ]
  },
  {
   "cell_type": "markdown",
   "metadata": {
    "deletable": false,
    "editable": false,
    "nbgrader": {
     "cell_type": "markdown",
     "checksum": "e867700248de449e4e1bb4aba97f87f0",
     "grade": false,
     "grade_id": "cell-0dadec12d1a5612d",
     "locked": true,
     "schema_version": 3,
     "solution": false,
     "task": false
    }
   },
   "source": [
    "Some more examples of numpy array slicing\n",
    "\n",
    "<img src=\"../../../coursedata/Intro/npslice.png\" style=\"height: 300px;\"/>\n"
   ]
  },
  {
   "cell_type": "markdown",
   "metadata": {
    "deletable": false,
    "editable": false,
    "nbgrader": {
     "cell_type": "markdown",
     "checksum": "8219b642464c99fe8c2aefa0d79e54e6",
     "grade": false,
     "grade_id": "cell-987b912c9df20a59",
     "locked": true,
     "schema_version": 3,
     "solution": false,
     "task": false
    }
   },
   "source": [
    "**<center><font size=\"4\">Stacking NumPy Arrays</font></center>**"
   ]
  },
  {
   "cell_type": "code",
   "execution_count": null,
   "metadata": {
    "deletable": false,
    "editable": false,
    "nbgrader": {
     "cell_type": "code",
     "checksum": "6356e2d4c8695ad3266c3163d6780e9c",
     "grade": false,
     "grade_id": "cell-96d8f4df0829d606",
     "locked": true,
     "schema_version": 3,
     "solution": false,
     "task": false
    }
   },
   "outputs": [],
   "source": [
    "# Stack arrays vertically (row wise)\n",
    "myarray = np.zeros((2,5))\n",
    "print(np.vstack([myarray, myarray+2]),'\\n')\n",
    "\n",
    "# Stack arrays horizontally (column wise)\n",
    "myarray = np.zeros((2,5))\n",
    "print(np.hstack([myarray, myarray+2]))"
   ]
  },
  {
   "cell_type": "markdown",
   "metadata": {
    "deletable": false,
    "editable": false,
    "nbgrader": {
     "cell_type": "markdown",
     "checksum": "3956d74026fada32e3102b5dcaae5ded",
     "grade": false,
     "grade_id": "cell-aa9252ff82791a31",
     "locked": true,
     "schema_version": 3,
     "solution": false,
     "task": false
    }
   },
   "source": [
    "**<center><font size=\"4\">Viewing and Copying NumPy Arrays</font></center>**\n",
    "\n",
    "Consider a numpy array `a` of shape (5,1). Assume you create a slice `b` which consists of the first two elements of `a`: `b=a[:2]`. It is then important to be aware that the variable `b` is merely a pointer (or reference) to the first two entries of `a`. Thus, when you modify the slice by `b[0] = 10`, you will simultaneously modify the first entry of `a`. If you want the slice to become a new object you need to copy the slice using the function `copy()`. "
   ]
  },
  {
   "cell_type": "markdown",
   "metadata": {
    "deletable": false,
    "editable": false,
    "nbgrader": {
     "cell_type": "markdown",
     "checksum": "fe9cdbc4df511e085c61ced1d9b2e9c1",
     "grade": false,
     "grade_id": "cell-bba42fd235ce4729",
     "locked": true,
     "schema_version": 3,
     "solution": false,
     "task": false
    }
   },
   "source": [
    "<div class=\" alert alert-danger\"> \n",
    "    \n",
    "<center><font size=\"5\"><b>Caution!</b></font></center>\n",
    "    \n",
    "\n",
    "<p><center><font size=\"4\">Modification of an array slice will modify the original array</font></center></p>\n",
    "    \n",
    "</div>"
   ]
  },
  {
   "cell_type": "code",
   "execution_count": null,
   "metadata": {
    "deletable": false,
    "editable": false,
    "nbgrader": {
     "cell_type": "code",
     "checksum": "551b8b678751d827a728965c00647ed1",
     "grade": false,
     "grade_id": "cell-b63444e430ff643a",
     "locked": true,
     "schema_version": 3,
     "solution": false,
     "task": false
    }
   },
   "outputs": [],
   "source": [
    "# Slice view, creates view of the array and any modification of it will update that array.\n",
    "\n",
    "# create the array \n",
    "myarray = np.arange(10)\n",
    "# print values of the original array\n",
    "print(\"Original array: \", myarray)\n",
    "\n",
    "# assign the slice (view of the array) to a new variable 'myslice'\n",
    "myslice = myarray[5:]\n",
    "# print values of variable 'myslice'\n",
    "print(\"\\nSlice of the array: \", myslice)\n",
    "\n",
    "# modify variable 'myslice' - assign value zero to all entries of the array\n",
    "myslice[:] = 0\n",
    "\n",
    "# print values of the original array and modified variable 'myslice'\n",
    "print(\"\\nModified slice of the array: \", myslice)\n",
    "print(\"\\nOriginal array: \", myarray)"
   ]
  },
  {
   "cell_type": "code",
   "execution_count": null,
   "metadata": {
    "deletable": false,
    "editable": false,
    "nbgrader": {
     "cell_type": "code",
     "checksum": "1a063fbc8656b762c4b35464e13bccee",
     "grade": false,
     "grade_id": "cell-b56c4d63fb79630a",
     "locked": true,
     "schema_version": 3,
     "solution": false,
     "task": false
    }
   },
   "outputs": [],
   "source": [
    "# Copying array, creates a different object, original array is not modified.\n",
    "\n",
    "# create the array \n",
    "myarray = np.arange(10)\n",
    "# print values of the original array\n",
    "print(\"Original array: \", myarray)\n",
    "\n",
    "# assign the slice (copy of the array) to a new variable 'myslice'\n",
    "myslice = np.copy(myarray[5:])\n",
    "# print values of variable 'myslice'\n",
    "print(\"\\nCopy of the array: \", myslice)\n",
    "\n",
    "# modify variable 'myslice'\n",
    "myslice[:] = 0\n",
    "\n",
    "# print values of the original array and modified variable 'myslice'\n",
    "print(\"\\nModified copy of the array: \", myslice)\n",
    "print(\"\\nOriginal array: \", myarray)"
   ]
  },
  {
   "cell_type": "markdown",
   "metadata": {
    "deletable": false,
    "editable": false,
    "nbgrader": {
     "cell_type": "markdown",
     "checksum": "4f40b0d6079d3867d05015bb14ca7369",
     "grade": false,
     "grade_id": "cell-af888956d0461598",
     "locked": true,
     "schema_version": 3,
     "solution": false,
     "task": false
    }
   },
   "source": [
    "**You can find further reading about view and copy of NumPy Arrays here:**\n",
    "\n",
    "https://scipy-cookbook.readthedocs.io/items/ViewsVsCopies.html"
   ]
  },
  {
   "cell_type": "markdown",
   "metadata": {
    "deletable": false,
    "editable": false,
    "nbgrader": {
     "cell_type": "markdown",
     "checksum": "96b4273020cdf28091163048cda62ba5",
     "grade": false,
     "grade_id": "cell-53726ede6839ebd7",
     "locked": true,
     "schema_version": 3,
     "solution": false,
     "task": false
    }
   },
   "source": [
    "**<center><font size=\"4\">Operations on NumPy Arrays</font></center>**"
   ]
  },
  {
   "cell_type": "code",
   "execution_count": null,
   "metadata": {
    "deletable": false,
    "editable": false,
    "nbgrader": {
     "cell_type": "code",
     "checksum": "14a750c62a3b9197816f852e8afff3df",
     "grade": false,
     "grade_id": "cell-4bbab74b7967bf8d",
     "locked": true,
     "schema_version": 3,
     "solution": false,
     "task": false
    }
   },
   "outputs": [],
   "source": [
    "# create two numpy arrays\n",
    "\n",
    "x = np.arange(10)\n",
    "y = np.arange(20,30)\n",
    "print(x, y, \"\\n\")\n",
    "\n",
    "# elementwise addition and substraction\n",
    "\n",
    "print(x + y)\n",
    "print(x - y, \"\\n\")\n",
    "\n",
    "# elementwise multiplication and division\n",
    "\n",
    "print(x * y)\n",
    "print(x / y, \"\\n\")\n",
    "\n",
    "# elementwise power\n",
    "\n",
    "print(x**2)"
   ]
  },
  {
   "cell_type": "code",
   "execution_count": null,
   "metadata": {
    "deletable": false,
    "editable": false,
    "nbgrader": {
     "cell_type": "code",
     "checksum": "7d0be40837a6f93e9b980859e7863f6a",
     "grade": false,
     "grade_id": "cell-0341f762b045de1c",
     "locked": true,
     "schema_version": 3,
     "solution": false,
     "task": false
    }
   },
   "outputs": [],
   "source": [
    "# create numpy array\n",
    "x = np.arange(10,0,-1)\n",
    "\n",
    "# useful numpy array functions:\n",
    "# sum of elements\n",
    "x_sum = x.sum()\n",
    "\n",
    "# maximum and minimum values\n",
    "x_max = x.max()\n",
    "x_min = x.min()\n",
    "\n",
    "# indices of maximum and minimum values\n",
    "x_indmax = x.argmax()\n",
    "x_indmin = x.argmin()\n",
    "\n",
    "print(x)\n",
    "print(\"\\nSum of the array: \", x_sum) \n",
    "print(\"\\nMaximum and minimun values: {}, {} \\nIndices of maximum and minimum values: {}, {}\".format(\n",
    "      x_max, x_min, x_indmax, x_indmin))"
   ]
  },
  {
   "cell_type": "markdown",
   "metadata": {
    "deletable": false,
    "editable": false,
    "nbgrader": {
     "cell_type": "markdown",
     "checksum": "2a1c3af6149401209a6df46b89cad598",
     "grade": false,
     "grade_id": "cell-852a76abef2dc7c1",
     "locked": true,
     "schema_version": 3,
     "solution": false,
     "task": false
    }
   },
   "source": [
    "**<center><font size=\"4\">Broadcasting</font></center>**"
   ]
  },
  {
   "cell_type": "markdown",
   "metadata": {
    "deletable": false,
    "editable": false,
    "nbgrader": {
     "cell_type": "markdown",
     "checksum": "e4a3edcef4b8cfbee2532cd62800e1b3",
     "grade": false,
     "grade_id": "cell-def91f5920dae6ce",
     "locked": true,
     "schema_version": 3,
     "solution": false,
     "task": false
    }
   },
   "source": [
    "Sometimes we need to add the same constant value to all entries of a numpy array. Consider a numpy array `a` of an arbitrary size and a numpy array `b` containing a single number. We would like to be able to write `a+b` to get a numpy array whose entries are given by adding the value in `b` to all entries in `a`. The concept of \"broadcasting\" for numpy arrays makes this possible! \n",
    "\n",
    "Find more information here:\n",
    "\n",
    "https://docs.scipy.org/doc/numpy/user/basics.broadcasting.html"
   ]
  },
  {
   "cell_type": "code",
   "execution_count": null,
   "metadata": {
    "deletable": false,
    "editable": false,
    "nbgrader": {
     "cell_type": "code",
     "checksum": "a7ef14d65eba704aad4c19a3d10ddc25",
     "grade": false,
     "grade_id": "cell-402164ced523f141",
     "locked": true,
     "schema_version": 3,
     "solution": false,
     "task": false
    }
   },
   "outputs": [],
   "source": [
    "# It is possible to do operations with different size arrays - broadcasting\n",
    "# create two numpy arrays\n",
    "x = np.array([[1,2,3], [4,5,6], [7,8,9], [10,11,12]])\n",
    "y = np.ones((1,3))\n",
    "\n",
    "# display the values of two arrays\n",
    "print(\"x = \\n\", x)\n",
    "print(\"\\n\", \"y = \", y)\n",
    "\n",
    "# print the result of arrays addition\n",
    "print(\"\\n\\n x+y = \\n\", x+y)"
   ]
  },
  {
   "cell_type": "markdown",
   "metadata": {
    "deletable": false,
    "editable": false,
    "nbgrader": {
     "cell_type": "markdown",
     "checksum": "de17cb89dd7414a1850cf62f5b925745",
     "grade": false,
     "grade_id": "cell-a6971c2e408302ae",
     "locked": true,
     "schema_version": 3,
     "solution": false,
     "task": false
    }
   },
   "source": [
    "<a id='STnumpy'></a>\n",
    "<div class=\" alert alert-warning\">\n",
    "   <font size=\"4\"> <b>Student task.</b> Numpy Arrays</font>\n",
    "    \n",
    "1. Create numpy array `x1` of shape (3,4) with `np.arange(12)`. \n",
    "2. Copy values of first two columns and all rows and store in numpy array `x2`.\n",
    "3. Multiply scalar 5 to `x2`.\n",
    "4. Add two columns of zeros as the last two column of `x2`.\n",
    "6. Add up `x1` and `x2` and store the result in `x3`.\n",
    "    \n",
    "</div>"
   ]
  },
  {
   "cell_type": "code",
   "execution_count": null,
   "metadata": {
    "deletable": false,
    "nbgrader": {
     "cell_type": "code",
     "checksum": "3f66bd1464aa5745b68c31f809e78a32",
     "grade": false,
     "grade_id": "cell-37dffbcf834f6ef3",
     "locked": false,
     "schema_version": 3,
     "solution": true,
     "task": false
    }
   },
   "outputs": [],
   "source": [
    "# remove the line raise NotImplementedError() before testing your solution and submitting code\n",
    "# YOUR CODE HERE\n",
    "raise NotImplementedError()\n",
    "\n",
    "# x1 = ...\n",
    "# x2 = ...\n",
    "# x3 = ..."
   ]
  },
  {
   "cell_type": "markdown",
   "metadata": {
    "deletable": false,
    "editable": false,
    "nbgrader": {
     "cell_type": "markdown",
     "checksum": "5384dc7a869b20da0ba0731a8910927a",
     "grade": false,
     "grade_id": "cell-305165e3a543760a",
     "locked": true,
     "schema_version": 3,
     "solution": false,
     "task": false
    }
   },
   "source": [
    "<details>\n",
    "    <summary>\n",
    "        <span class=\"summary-title\">Solution. Click to open.</span>\n",
    "    </summary>\n",
    "    <div class=\"summary-content\">\n",
    "        \n",
    "```python\n",
    "x1 = np.arange(12).reshape(3,4)\n",
    "x2 = np.copy(x1[:,:2])\n",
    "x2 = x2*5\n",
    "x2 = np.hstack([x2, np.zeros((x2.shape[0],2))])\n",
    "x3 = x1+x2\n",
    "```\n",
    "</div>  "
   ]
  },
  {
   "cell_type": "markdown",
   "metadata": {
    "deletable": false,
    "editable": false,
    "nbgrader": {
     "cell_type": "markdown",
     "checksum": "2c4447f3d60a6ee82cb40ade7543ba9f",
     "grade": false,
     "grade_id": "cell-0943a46e73da3549",
     "locked": true,
     "schema_version": 3,
     "solution": false,
     "task": false
    }
   },
   "source": [
    "<a id=vectors></a>\n",
    "    \n",
    "### <center>Vectors and Matrices</center>\n",
    "\n",
    "It is often useful to represent data in a numerical format as vectors or matrices. For example, suppose we have collected weather data (daily minimum, maximum, and average temperatures) for many days. In that case, we can represent observations for one day as a vector (or as NumPy array in Python code) and stack all observations in a matrix. Each row of this matrix would contain the weather observations for one day and each column - the minimum, maximum, or average temperatures across all days.\n",
    "\n",
    "We will soon present the mathematical notation, and the basic operations commonly used when working with vectors and matrices. If the concepts seem difficult to grasp, you can start by watching the animated video series [\"Essence of linear algebra\"](https://www.youtube.com/watch?v=kjBOesZCoqc&list=PL0-GT3co4r2y2YErbmuJw2L5tW4Ew2O5B) from 3Blue1Brown. For more detailed but still accessible explanations, you can check [\"Mathematics for Machine Learning\"](https://mml-book.github.io) book by M.P.Deisenroth, A.A.Faisal, and C.S.Ong (PDF is available on the website).\n",
    "\n",
    "**<center><font size=\"4\">Vectors</font></center>**\n",
    "\n",
    "We denote vectors with lower-case bold letters, e.g. vector $\\mathbf{x}$ consisting of $n$ elements:\n",
    "\n",
    "$\\mathbf{x}= \\begin{pmatrix}\n",
    "x_{1} \\\\ x_{2} \\\\ \\vdots \\\\ x_{n}\n",
    "\\end{pmatrix} $\n",
    "\n",
    "Traditionally vectors are represented as column vectors (elements of the vector stacked vertically). Also, vectors sometimes represented as  $\\mathbf{x} = \\big(x_{1},\\ldots,x_{n}\\big)^{T}$ or a transpose (see below) of a row vector, just for convenience.\\\n",
    "Below, you can see how to create vector $\\mathbf{x}$ consisting of $n$ elements, where  $n=5$ with Python NumPy library. "
   ]
  },
  {
   "cell_type": "code",
   "execution_count": null,
   "metadata": {
    "deletable": false,
    "editable": false,
    "nbgrader": {
     "cell_type": "code",
     "checksum": "c9ea2fbfea2f4029549e21e99c4b9c84",
     "grade": false,
     "grade_id": "cell-37b641ba7c2be49e",
     "locked": true,
     "schema_version": 3,
     "solution": false,
     "task": false
    }
   },
   "outputs": [],
   "source": [
    "# import Python library\n",
    "import numpy as np\n",
    "\n",
    "# create numpy array\n",
    "x = np.array([1,2,3,4,5])\n",
    "print(x)"
   ]
  },
  {
   "cell_type": "markdown",
   "metadata": {
    "deletable": false,
    "editable": false,
    "nbgrader": {
     "cell_type": "markdown",
     "checksum": "ce4fe3e3da0fb4e8aca63cdc9293381e",
     "grade": false,
     "grade_id": "cell-a38f59128e0feec6",
     "locked": true,
     "schema_version": 3,
     "solution": false,
     "task": false
    }
   },
   "source": [
    "The $i$:th entry of vector $\\mathbf{x}$ is denoted as $x_{i}$, e.g. first element of vector $\\mathbf{x}$ is $x_{1}$.\n",
    "\n",
    "**Note!** Indexing in Python starts from zero!\n",
    "\n"
   ]
  },
  {
   "cell_type": "code",
   "execution_count": null,
   "metadata": {
    "deletable": false,
    "editable": false,
    "nbgrader": {
     "cell_type": "code",
     "checksum": "1f559e45fe3a84a3c35f4971d6f970ca",
     "grade": false,
     "grade_id": "cell-d55afbed7351f98a",
     "locked": true,
     "schema_version": 3,
     "solution": false,
     "task": false
    }
   },
   "outputs": [],
   "source": [
    "# print first element of vector x\n",
    "print(\"First element of vector x =\", x[0])"
   ]
  },
  {
   "cell_type": "markdown",
   "metadata": {
    "deletable": false,
    "editable": false,
    "nbgrader": {
     "cell_type": "markdown",
     "checksum": "0982ec587b62e3f5df5a45a59bbbcdb2",
     "grade": false,
     "grade_id": "cell-9088cc477fbea1fe",
     "locked": true,
     "schema_version": 3,
     "solution": false,
     "task": false
    }
   },
   "source": [
    "**<center><font size=\"4\">Dot Product of two vectors</font></center>**\n",
    "\n",
    "The [dot product](https://en.wikipedia.org/wiki/Dot_product) between two vectors, i.e., one-dimensional NumPy arrays, of the same length is defined as\n",
    "\n",
    "\n",
    "\\begin{equation}\n",
    "\\mathbf{x}^{T}\\mathbf{y} =\n",
    "\\big({x}_{1},{x}_{2},\\ldots,{x}_{m}\\big)  \\cdot \\begin{pmatrix}{y}_{1} \\\\ {y}_{2} \\\\ \\vdots \\\\ {y}_{m} \\end{pmatrix} = \n",
    "{x}_{1}{y}_{1}+{x}_{2}{y}_{2}+\\ldots+{x}_{m}{y}_{m}\n",
    "\\end{equation} \n",
    "\n",
    "Geometrically, it is the product of the Euclidean magnitudes of the two vectors and the cosine of the angle between them. \n",
    "\n",
    "The dot product is also defined for NumPy arrays with more than one dimension (see [numpy documentation](https://numpy.org/doc/stable/reference/generated/numpy.dot.html?highlight=dot#numpy.dot) for more info)."
   ]
  },
  {
   "cell_type": "code",
   "execution_count": null,
   "metadata": {
    "deletable": false,
    "editable": false,
    "nbgrader": {
     "cell_type": "code",
     "checksum": "445d8c269f47f0d6eac8d54793915619",
     "grade": false,
     "grade_id": "cell-be2d924fd24753fb",
     "locked": true,
     "schema_version": 3,
     "solution": false,
     "task": false
    }
   },
   "outputs": [],
   "source": [
    "# create two numpy arrays\n",
    "x = np.arange(3)\n",
    "y = np.arange(3,6)\n",
    "\n",
    "# display the values of two arrays\n",
    "print(x,y)\n",
    "\n",
    "# dot product 0*3+1*4+2*5\n",
    "x.dot(y) "
   ]
  },
  {
   "cell_type": "markdown",
   "metadata": {
    "deletable": false,
    "editable": false,
    "nbgrader": {
     "cell_type": "markdown",
     "checksum": "a5a123717e2711b0b068d1a511e1143d",
     "grade": false,
     "grade_id": "cell-24dc34c72d0af3cb",
     "locked": true,
     "schema_version": 3,
     "solution": false,
     "task": false
    }
   },
   "source": [
    "**<center><font size=\"4\">Outer product of two vectors</font></center>**\n",
    "\n",
    "The [outer product](https://en.wikipedia.org/wiki/Outer_product) between two vectors, i.e., one-dimensional NumPy arrays is defined as\n",
    "\n",
    "\n",
    "\\begin{equation}\n",
    "\\mathbf{x}\\mathbf{y}^{T} =\n",
    "\\begin{pmatrix}{x}_{1} \\\\ {x}_{2} \\\\ \\vdots \\\\ {x}_{m} \\end{pmatrix}  \\cdot \\big({y}_{1},{y}_{2},\\ldots,{y}_{n}\\big) =\n",
    "\\begin{pmatrix}\n",
    "  x_1y_1& x_1y_2& \\ldots & x_1y_n \\\\\n",
    "  x_2y_1& x_2y_2& \\ldots & x_2y_n \\\\\n",
    "  \\vdots & \\vdots & \\ddots & \\vdots \\\\\n",
    " x_my_1& x_my_2& \\ldots & x_my_n\n",
    "\\end{pmatrix} \n",
    "\\end{equation} \n",
    "\n",
    "\n",
    "As you can see, the result of the outer product is a matrix, whereas the output of the dot product is scalar. "
   ]
  },
  {
   "cell_type": "code",
   "execution_count": null,
   "metadata": {
    "deletable": false,
    "editable": false,
    "nbgrader": {
     "cell_type": "code",
     "checksum": "92cd88594efbe87645a3ac5b9ab87a8b",
     "grade": false,
     "grade_id": "cell-a4b5aade9b1c4e32",
     "locked": true,
     "schema_version": 3,
     "solution": false,
     "task": false
    }
   },
   "outputs": [],
   "source": [
    "# create two numpy arrays\n",
    "x = np.arange(3)\n",
    "y = np.arange(3,7)\n",
    "\n",
    "# display the values of two arrays\n",
    "print(x,y)\n",
    "# outer product\n",
    "np.outer(x,y)"
   ]
  },
  {
   "cell_type": "markdown",
   "metadata": {
    "deletable": false,
    "editable": false,
    "nbgrader": {
     "cell_type": "markdown",
     "checksum": "23b9244408fb5ba33de9b9c0cf40ed6d",
     "grade": false,
     "grade_id": "cell-1c5626814a11b61a",
     "locked": true,
     "schema_version": 3,
     "solution": false,
     "task": false
    }
   },
   "source": [
    "**<center><font size=\"4\">Matrices</font></center>**"
   ]
  },
  {
   "cell_type": "markdown",
   "metadata": {
    "deletable": false,
    "editable": false,
    "nbgrader": {
     "cell_type": "markdown",
     "checksum": "5d31f6aa42b0887edc1262f24899d1dc",
     "grade": false,
     "grade_id": "cell-a7182d158fe64b0a",
     "locked": true,
     "schema_version": 3,
     "solution": false,
     "task": false
    }
   },
   "source": [
    "In many applications, it is natural to represent data as a [matrix](https://en.wikipedia.org/wiki/Matrix_(mathematics)), which is the special case of a two-dimensional NumPy array. \n",
    "\n",
    "Matrices are denoted in bold capital letters, e.g. matrix $\\mathbf{X}$ with $m$ rows and $n$ columns or $m \\times n$ matrix.\n",
    "\n",
    "\n",
    "$\\mathbf{X} = \n",
    "           \\begin{pmatrix}\n",
    "              x_1^{(1)} & x_2^{(1)} & \\ldots & x_n^{(1)} \\\\\n",
    "              x_1^{(2)} & x_2^{(2)} & \\ldots & x_n^{(2)} \\\\\n",
    "              \\vdots & \\vdots & \\ddots & \\vdots \\\\\n",
    "              x_1^{(m)} & x_2^{(m)} & \\ldots & x_n^{(m)}\n",
    "           \\end{pmatrix} $\n",
    "\n",
    "\n",
    "Below, you can see how to create a matrix $\\mathbf{X}$ with $m=3$ and $n=4$, containing the range of numbers $0,1,\\ldots,11$. "
   ]
  },
  {
   "cell_type": "code",
   "execution_count": null,
   "metadata": {
    "deletable": false,
    "editable": false,
    "nbgrader": {
     "cell_type": "code",
     "checksum": "66ff60728b174bb1966d8b388fb22714",
     "grade": false,
     "grade_id": "cell-7524fcc6c0e002c4",
     "locked": true,
     "schema_version": 3,
     "solution": false,
     "task": false
    }
   },
   "outputs": [],
   "source": [
    "X = np.arange(12).reshape(3,4)\n",
    "print(X)"
   ]
  },
  {
   "cell_type": "markdown",
   "metadata": {
    "deletable": false,
    "editable": false,
    "nbgrader": {
     "cell_type": "markdown",
     "checksum": "f9b98a67c51e710bde3382b50aba510e",
     "grade": false,
     "grade_id": "cell-55338c7536e9ec76",
     "locked": true,
     "schema_version": 3,
     "solution": false,
     "task": false
    }
   },
   "source": [
    "**<center><font size=\"4\">Transpose of vectors and matrices</font></center>**\n",
    "\n",
    "The transpose of a matrix and a vector are denoted $\\mathbf{X}^{T}$ or $\\mathbf{x}^{T}$ respectively."
   ]
  },
  {
   "cell_type": "code",
   "execution_count": null,
   "metadata": {
    "deletable": false,
    "editable": false,
    "nbgrader": {
     "cell_type": "code",
     "checksum": "da6bd005aae23a5e73ae37245ff20746",
     "grade": false,
     "grade_id": "cell-2e96f1f9b297658e",
     "locked": true,
     "schema_version": 3,
     "solution": false,
     "task": false
    }
   },
   "outputs": [],
   "source": [
    "print(X.T, \"\\n\") # \"\\n\" prints empty line"
   ]
  },
  {
   "cell_type": "markdown",
   "metadata": {
    "deletable": false,
    "editable": false,
    "nbgrader": {
     "cell_type": "markdown",
     "checksum": "f2af3264fd026a1bf483f3eaed13cd08",
     "grade": false,
     "grade_id": "cell-b7f3a657b8c73deb",
     "locked": true,
     "schema_version": 3,
     "solution": false,
     "task": false
    }
   },
   "source": [
    "**<center><font size=\"4\">Dimension (vector space)</font></center>**\n",
    "\n",
    "Often you will see notations such as $\\mathbf{x} \\in \\mathbb{R}^n$ or $\\mathbf{X} \\in \\mathbb{R}^{m \\times n}$, where $\\mathbb{R}$  are [real numbers](https://en.wikipedia.org/wiki/Real_number) and $\\mathbb{R}^n$ is a [coordinate space](https://en.wikipedia.org/wiki/Real_coordinate_space) consisting of length-$n$ tuples of real numbers. For example,  $\\mathbb{R}^2$ is a plane and $\\mathbf{x} \\in \\mathbb{R}^2$ means that vector $\\mathbf{x}$ is in vector space  $\\mathbb{R}^2$ or in the plane.\n",
    "\n",
    "A vector $\\mathbf{x} \\in \\mathbb{R}^2$ consist of two elements and a matrix $\\mathbf{X} \\in \\mathbb{R}^{3 \\times 4}$ consists of $3 \\times 4$ elements.\n",
    "\n",
    "Generally, we say that the matrix $\\mathbf{X}$ with $m$ rows and $n$ columns \n",
    "\n",
    "\\begin{equation}\n",
    "\\mathbf{X}  = \\begin{pmatrix} x_{1,1} & x_{1,2} & \\ldots & x_{1,n} \\\\ \n",
    "x_{2,1} & x_{2,2}& \\ldots & x_{2,n} \\\\ \n",
    "\\vdots & \\vdots & \\vdots & \\vdots \\\\ \n",
    "x_{m,1} & x_{m,2} & \\ldots & x_{m,n} \\end{pmatrix}\\in \\mathbb{R}^{m \\times n}\n",
    "\\end{equation} "
   ]
  },
  {
   "cell_type": "markdown",
   "metadata": {
    "deletable": false,
    "editable": false,
    "nbgrader": {
     "cell_type": "markdown",
     "checksum": "6d777c2b6db83c7ac03e7a22f47bdb72",
     "grade": false,
     "grade_id": "cell-c627d49e5d58362c",
     "locked": true,
     "schema_version": 3,
     "solution": false,
     "task": false
    }
   },
   "source": [
    "**<center><font size=\"4\"> Matrix multiplication</font></center>**\n",
    "\n",
    "Now we will use numpy arrays to create a matrix $\\mathbf{X}$ with $m$ rows and $n$ columns \n",
    "\n",
    "\\begin{equation}\n",
    "\\mathbf{X}  = \\begin{pmatrix} x_{1,1} & x_{1,2} & \\ldots & x_{1,n} \\\\ \n",
    "x_{2,1} & x_{2,2}& \\ldots & x_{2,n} \\\\ \n",
    "\\vdots & \\vdots & \\vdots & \\vdots \\\\ \n",
    "x_{m,1} & x_{m,2} & \\ldots & x_{m,n} \\end{pmatrix}\\in \\mathbb{R}^{m \\times n}\n",
    "\\end{equation} \n",
    "\n",
    " a matrix $\\mathbf{Y}$ with $n$ rows and $m$ columns  \n",
    "\n",
    "\\begin{equation}\n",
    "\\mathbf{Y}  = \\begin{pmatrix} y_{1,1} & y_{1,2} & \\ldots & y_{1,m} \\\\ \n",
    "y_{2,1} & y_{2,2}& \\ldots & y_{2,m} \\\\ \n",
    "\\vdots & \\vdots & \\vdots & \\vdots \\\\ \n",
    "y_{n,1} & y_{n,2} & \\ldots & y_{n,m} \\end{pmatrix}\\in \\mathbb{R}^{n \\times m},\n",
    "\\end{equation}  \n",
    "\n",
    "\n",
    "and perform matrix multiplication to compute the product $\\mathbf{X}\\mathbf{Y}$. "
   ]
  },
  {
   "cell_type": "markdown",
   "metadata": {
    "deletable": false,
    "editable": false,
    "nbgrader": {
     "cell_type": "markdown",
     "checksum": "5eb94058e5f12ecc8ab30c3601fc77c5",
     "grade": false,
     "grade_id": "cell-94d3df065d0f0c7c",
     "locked": true,
     "schema_version": 3,
     "solution": false,
     "task": false
    }
   },
   "source": [
    "[Matrix multiplication](https://en.wikipedia.org/wiki/Matrix_multiplication) is a binary operation that produces a matrix from two matrices. For matrix multiplication, the number of columns in the first matrix must be equal to the number of rows in the second matrix. The result matrix, known as the matrix product, has the number of rows of the first and the number of columns of the second matrix.\n",
    "\n",
    "In Python, matrix multiplication can be performed using NumPy with the `@` operator, which is equivalent to the function `numpy.matmul()`."
   ]
  },
  {
   "cell_type": "code",
   "execution_count": null,
   "metadata": {
    "deletable": false,
    "editable": false,
    "nbgrader": {
     "cell_type": "code",
     "checksum": "3321d5d8df259cd2599c0b4aa63364f4",
     "grade": false,
     "grade_id": "cell-ac6d31761fb79adc",
     "locked": true,
     "schema_version": 3,
     "solution": false,
     "task": false
    }
   },
   "outputs": [],
   "source": [
    "# create an array of length m*n\n",
    "m = 4\n",
    "n = 3\n",
    "array = np.arange(m*n)\n",
    "\n",
    "# create matrix X represented as a numpy array of shape (m,n)\n",
    "X = array.reshape(m,n)\n",
    "dimension=np.shape(X)      # determine dimensions of matrix X\n",
    "rows = dimension[0]        # first element of \"dimension\" is the number of rows \n",
    "cols = dimension[1]        # second element of \"dimension\" is the number of cols\n",
    "print(\"the matrix X has\", rows, \"rows and\", cols, \"columns \\n\") \n",
    "\n",
    "# create matrix Y represented as a numpy array of shape (n,m)\n",
    "Y = array.reshape(n,m)\n",
    "dimension=np.shape(Y)      # determine dimensions of matrix Y\n",
    "rows = dimension[0]        # first element of \"dimension\" is the number of rows \n",
    "cols = dimension[1]        # second element of \"dimension\" is the number of cols\n",
    "print(\"the matrix Y has\", rows, \"rows and\", cols, \"columns \\n\") \n",
    "\n",
    "# matrix multiplication of X and Y\n",
    "XY = X @ Y\n",
    "# print the result of matrix multiplication \n",
    "print(\"the product XY=X@Y is XY = \\n\", XY) \n",
    "# print the shape of the XY matrix\n",
    "print(\"\\n the matrix XY has\", XY.shape[0], \"rows and\", XY.shape[1], \"columns \\n\") "
   ]
  },
  {
   "cell_type": "markdown",
   "metadata": {
    "deletable": false,
    "editable": false,
    "nbgrader": {
     "cell_type": "markdown",
     "checksum": "a3e62aedfb6950a26ff260347e6238a1",
     "grade": false,
     "grade_id": "cell-2b7354279db5060a",
     "locked": true,
     "schema_version": 3,
     "solution": false,
     "task": false
    }
   },
   "source": [
    "<div class=\"info\">\n",
    "    <div  class=\"info-title\"><i class=\"fa fa-info-circle\" aria-hidden=\"true\"></i>&nbsp; Info</div><br>\n",
    "    <div class=\"wrap-up-content\">\n",
    "        <ul>\n",
    "            <li>For matrix multiplication, the number of columns in the first matrix must be equal to the number of rows in the second matrix. The result matrix has the number of rows of the first and the number of columns of the second matrix. </li>\n",
    "            <li>Order of matrix multiplication is important:  np.matmul(A,B) != np.matmul(B,A). </li>\n",
    "            <li>A*B is an element-wise multiplication in Python, and not the matrix multiplication.</li>\n",
    "        </ul>\n",
    "    </div>\n",
    "</div>"
   ]
  },
  {
   "cell_type": "code",
   "execution_count": null,
   "metadata": {
    "deletable": false,
    "editable": false,
    "nbgrader": {
     "cell_type": "code",
     "checksum": "d92a7820b82b87a243374c0ffc2aa5e7",
     "grade": false,
     "grade_id": "cell-37139565a070a810",
     "locked": true,
     "schema_version": 3,
     "solution": false,
     "task": false
    }
   },
   "outputs": [],
   "source": [
    "# For matrix multiplication A.dot(B) or A@B can be used\n",
    "print(\"\\nMatrix multiplication X@Y:\\n\\n\", X @ Y)\n",
    "\n",
    "# Order is important in matrix multiplication - A@B != B@A\n",
    "print(\"\\nMatrix multiplication Y@X:\\n\\n\", Y @ X)\n",
    "\n",
    "# Square of the matrix element-wise\n",
    "Z = np.arange(9).reshape(3,3)\n",
    "print(\"\\nMatrix Z:\\n\\n\", Z)\n",
    "print(\"\\nSquare - element-wise Z*Z:\\n\\n\", Z**2)\n",
    "\n",
    "# Square of the matrix by matrix multiplication\n",
    "print(\"\\nSquare - matrix multiplication Z@Z:\\n\\n\", Z @ Z)"
   ]
  },
  {
   "cell_type": "markdown",
   "metadata": {
    "deletable": false,
    "editable": false,
    "nbgrader": {
     "cell_type": "markdown",
     "checksum": "a5ed041f15c350da522dbb110057aacf",
     "grade": false,
     "grade_id": "cell-da2257f3cef00d21",
     "locked": true,
     "schema_version": 3,
     "solution": false,
     "task": false
    }
   },
   "source": [
    "**<center><font size=\"4\">L1-norm of a vector or matrix</font></center>**\n",
    "\n",
    "Norms of vectors are instrumental when we need to measure the similarity between data points represented as vectors.\n",
    "\n",
    "The L1-norm of a vector $\\mathbf{x}$ is defined as the sum of the absolute values of its elements, and is denoted by\n",
    "\n",
    "\\begin{equation}\n",
    "{||\\mathbf{x}||}_{1}= |{x_1}|+...+|{x_n}|\n",
    "\\end{equation}\n"
   ]
  },
  {
   "cell_type": "markdown",
   "metadata": {
    "deletable": false,
    "editable": false,
    "nbgrader": {
     "cell_type": "markdown",
     "checksum": "dfc5b60832cf74a2564812f1813cf64d",
     "grade": false,
     "grade_id": "cell-53a4a1f9f863274f",
     "locked": true,
     "schema_version": 3,
     "solution": false,
     "task": false
    }
   },
   "source": [
    "**<center><font size=\"4\">L2-norm of a vector or matrix</font></center>**\n",
    "\n",
    "The L2-norm of a vector or matrix is defined as the square root of sum of the squared components of a vector or matrix, which corresponds to the intuitive notion of distance. It is denoted by\n",
    "\n",
    "\\begin{equation}\n",
    "\\|\\mathbf{x}\\|_{2}= \\sqrt{{x_1}^{2}+...+{x_n}^{2}},\n",
    "\\end{equation}\n",
    " \n",
    "although the subscript is often omitted since the L2-norm is the standard norm in $\\mathbb{R}^n$. \n",
    "\n",
    "It is often useful to calculate the squared L2-norm \n",
    " \n",
    "\\begin{equation}\n",
    "\\|\\mathbf{x}\\|^{2}= {x_1}^{2}+...+{x_n}^{2},\n",
    "\\end{equation}\n",
    " \n",
    "which is equivalent to the inner (dot) product of the vector with itself.\n",
    "\n",
    "In the picture below, you can see the L1 and L2 norms between two points in the Euclidean plane:\n",
    "\n",
    "<img src=\"../../../coursedata/Intro/norm.png\" width=400px/>"
   ]
  },
  {
   "cell_type": "markdown",
   "metadata": {
    "deletable": false,
    "editable": false,
    "nbgrader": {
     "cell_type": "markdown",
     "checksum": "b03d722a60fae988dd1bf39481ba00a6",
     "grade": false,
     "grade_id": "cell-0bb5fa308daef7d5",
     "locked": true,
     "schema_version": 3,
     "solution": false,
     "task": false
    }
   },
   "source": [
    "**<center><font size=\"4\">Summation</font></center>**\n",
    "\n",
    "The sum of all elements (from 1 to $n$) of an indexed collection $(x_1, x_2, \\ldots, x_n)$ (e.g., a vector $\\mathbf{x}$) is denoted by\n",
    "\n",
    "\\begin{equation}\n",
    "\\sum_{i=1}^{n}{x}_{i} = {x_1}+...+{x_n}\n",
    "\\end{equation}\n",
    "\n",
    "For example, we can re-write vector norm formula as \n",
    "\n",
    "\\begin{equation}\n",
    "\\| \\mathbf{x} \\|^{2}= \\sum_{i=1}^{n}{x_i}^{2} = {x_1}^{2}+...+{x_n}^{2}\n",
    "\\end{equation}"
   ]
  },
  {
   "cell_type": "markdown",
   "metadata": {
    "deletable": false,
    "editable": false,
    "nbgrader": {
     "cell_type": "markdown",
     "checksum": "cd5d7486c0702ac96ccd4fa7113b92de",
     "grade": false,
     "grade_id": "cell-9a7803ea636d7fcb",
     "locked": true,
     "schema_version": 3,
     "solution": false,
     "task": false
    }
   },
   "source": [
    "**<center><font size=\"4\">Product</font></center>**\n",
    "\n",
    "Product notation $ \\prod$ is used to indicate repeated multiplication.\n",
    "\n",
    "For example,\n",
    "\n",
    "\\begin{equation}\n",
    "\\prod_{k=3}^7 k = 3·4·5·6·7,\n",
    "\\end{equation} or\n",
    "\n",
    "\\begin{equation}\n",
    "\\prod_{i=1}^n {x}_{i} = {x_1}· ... ·{x_n}.\n",
    "\\end{equation}\n"
   ]
  },
  {
   "cell_type": "markdown",
   "metadata": {
    "deletable": false,
    "editable": false,
    "nbgrader": {
     "cell_type": "markdown",
     "checksum": "855e7e5d20bbe2c71b18305ee048ec8b",
     "grade": false,
     "grade_id": "cell-9e9c4c942a0e1bfd",
     "locked": true,
     "schema_version": 3,
     "solution": false,
     "task": false
    }
   },
   "source": [
    "<a id='STvectors'></a>\n",
    "<div class=\" alert alert-warning\">\n",
    "   <font size=\"4\"> <b>Student task.</b> Vector and Matrix operations.</font>\n",
    "    \n",
    "Consider following vectors:\n",
    "\n",
    "\\begin{equation}   \n",
    "\\mathbf{x} = \\begin{pmatrix} x_{1} \\\\ x_{2} \\\\ \\vdots \\\\ x_{n} \\end{pmatrix} \\ \n",
    "\\mathbf{w} = \\begin{pmatrix} w_{1} \\\\ w_{2} \\\\ \\vdots \\\\ w_{n} \\end{pmatrix} \n",
    "\\end{equation}    \n",
    "\n",
    "    \n",
    "Your task is to perform following calculations:\n",
    "\n",
    "1.  sum all elements of vector $\\mathbf{x}$:  $\\sum_{i=1}^{n}{x}_{i}$ and store result in a variable `vector_sum` \n",
    "2.  square of L2-norm of vector $\\mathbf{x}$: ${||\\mathbf{x}||_2}^{2}$ and store result in `vector_norm ` \n",
    "3.  compute dot-product of two vectors $\\mathbf{w}$ and $\\mathbf{x}$: $\\mathbf{w}^{T}\\mathbf{x}$ and store in a variable  `vector_dotprod`\n",
    "4.  compute outer product of two vectors $\\mathbf{w}$ and $\\mathbf{x}$: $\\mathbf{w}\\mathbf{x}^{T}$ and store in a variable `vector_outerprod`\n",
    "5. compute multiplication  of `vector_outerprod` and `A` (given below) and store in `mat_mult`\n",
    "    \n",
    "</div>"
   ]
  },
  {
   "cell_type": "code",
   "execution_count": null,
   "metadata": {
    "deletable": false,
    "nbgrader": {
     "cell_type": "code",
     "checksum": "c0073c4519a8d3a721449ff7eac27dd9",
     "grade": false,
     "grade_id": "cell-16a38ed8a4e6b082",
     "locked": false,
     "schema_version": 3,
     "solution": true,
     "task": false
    }
   },
   "outputs": [],
   "source": [
    "np.random.seed(42)\n",
    "\n",
    "x = np.arange(5).reshape(-1,)\n",
    "w = np.random.rand(5).reshape(-1,)\n",
    "A = np.arange(15).reshape(5,3)\n",
    "\n",
    "### STUDENT TASK ###\n",
    "# vector_sum = ...\n",
    "# vector_norm = ...\n",
    "# vector_dotprod = ...\n",
    "# vector_outerprod = ...\n",
    "# mat_mult = ...\n",
    "# remove the line raise NotImplementedError() before testing your solution and submitting code\n",
    "# YOUR CODE HERE\n",
    "raise NotImplementedError()"
   ]
  },
  {
   "cell_type": "markdown",
   "metadata": {
    "deletable": false,
    "editable": false,
    "nbgrader": {
     "cell_type": "markdown",
     "checksum": "54fe8fe7d25089f8b6aa91f17cb3c7c8",
     "grade": false,
     "grade_id": "cell-b2ead275e57bd19c",
     "locked": true,
     "schema_version": 3,
     "solution": false,
     "task": false
    }
   },
   "source": [
    "<details>\n",
    "    <summary>\n",
    "        <span class=\"summary-title\">Solution. Click to open.</span>\n",
    "    </summary>\n",
    "    <div class=\"summary-content\">\n",
    "        \n",
    "```python\n",
    "vector_sum = x.sum()\n",
    "vector_norm = sum(x**2)\n",
    "vector_dotprod = w.dot(x)\n",
    "vector_outerprod = np.outer(w,x)\n",
    "mat_mult = vector_outerprod@A\n",
    "```\n",
    "</div>  "
   ]
  },
  {
   "cell_type": "markdown",
   "metadata": {
    "deletable": false,
    "editable": false,
    "nbgrader": {
     "cell_type": "markdown",
     "checksum": "4c673efa6d4a27c8f78caf3cfd2558e2",
     "grade": false,
     "grade_id": "cell-6e44d705debdd33b",
     "locked": true,
     "schema_version": 3,
     "solution": false,
     "task": false
    }
   },
   "source": [
    "<a id='err'></a>\n",
    "### <center>Common Python errors</center>\n",
    "\n",
    "\n",
    "### SyntaxError"
   ]
  },
  {
   "cell_type": "code",
   "execution_count": null,
   "metadata": {
    "deletable": false,
    "editable": false,
    "nbgrader": {
     "cell_type": "code",
     "checksum": "809fb78d04e077cfafe1a316e3eddcce",
     "grade": false,
     "grade_id": "cell-22d8627d088793da",
     "locked": true,
     "schema_version": 3,
     "solution": false,
     "task": false
    }
   },
   "outputs": [],
   "source": [
    "# print(\"cat\") \n",
    "print \"cat\" "
   ]
  },
  {
   "cell_type": "code",
   "execution_count": null,
   "metadata": {
    "deletable": false,
    "editable": false,
    "nbgrader": {
     "cell_type": "code",
     "checksum": "9b76d9708580522d4bb5a6d4186dc59d",
     "grade": false,
     "grade_id": "cell-c7f3878beca8eb6b",
     "locked": true,
     "schema_version": 3,
     "solution": false,
     "task": false
    }
   },
   "outputs": [],
   "source": [
    "# if 10>9:\n",
    "#  print(\"cat\")\n",
    "\n",
    "if 10>9\n",
    " print(\"cat\")"
   ]
  },
  {
   "cell_type": "markdown",
   "metadata": {
    "deletable": false,
    "editable": false,
    "nbgrader": {
     "cell_type": "markdown",
     "checksum": "f02f6e6ca947de1dce0245c14a5eface",
     "grade": false,
     "grade_id": "cell-d1144e4d369f7370",
     "locked": true,
     "schema_version": 3,
     "solution": false,
     "task": false
    }
   },
   "source": [
    "### IndentationError"
   ]
  },
  {
   "cell_type": "code",
   "execution_count": null,
   "metadata": {
    "deletable": false,
    "editable": false,
    "nbgrader": {
     "cell_type": "code",
     "checksum": "be4e46f953b3c36bd5eb1d2bffc00761",
     "grade": false,
     "grade_id": "cell-fb0e16a11eaf0d8a",
     "locked": true,
     "schema_version": 3,
     "solution": false,
     "task": false
    }
   },
   "outputs": [],
   "source": [
    "# if 10>9:\n",
    "#     print(\"cat\")\n",
    "#     print(\"dog\")\n",
    "\n",
    "if 10>9:\n",
    "    print(\"cat\")\n",
    " print(\"dog\")"
   ]
  },
  {
   "cell_type": "markdown",
   "metadata": {
    "deletable": false,
    "editable": false,
    "nbgrader": {
     "cell_type": "markdown",
     "checksum": "74bcefc0e8e2f74d7d89c4815683e441",
     "grade": false,
     "grade_id": "cell-1ff0f72556a6e72a",
     "locked": true,
     "schema_version": 3,
     "solution": false,
     "task": false
    }
   },
   "source": [
    "### NameError"
   ]
  },
  {
   "cell_type": "code",
   "execution_count": null,
   "metadata": {
    "deletable": false,
    "editable": false,
    "nbgrader": {
     "cell_type": "code",
     "checksum": "78795961db1d8b7f28729bc159561f35",
     "grade": false,
     "grade_id": "cell-55db212788136635",
     "locked": true,
     "schema_version": 3,
     "solution": false,
     "task": false
    }
   },
   "outputs": [],
   "source": [
    "mylist = [1,2,3]\n",
    "# mylist\n",
    "mlist"
   ]
  },
  {
   "cell_type": "code",
   "execution_count": null,
   "metadata": {
    "deletable": false,
    "editable": false,
    "nbgrader": {
     "cell_type": "code",
     "checksum": "d70263734a4027a248b70a1226bd98a1",
     "grade": false,
     "grade_id": "cell-3b0be8e4e304eee0",
     "locked": true,
     "schema_version": 3,
     "solution": false,
     "task": false
    }
   },
   "outputs": [],
   "source": [
    "# import seaborn as sns\n",
    "sns"
   ]
  },
  {
   "cell_type": "markdown",
   "metadata": {
    "deletable": false,
    "editable": false,
    "nbgrader": {
     "cell_type": "markdown",
     "checksum": "aa001e495c3566671315ab8a4b69f32d",
     "grade": false,
     "grade_id": "cell-d15c884fccfce496",
     "locked": true,
     "schema_version": 3,
     "solution": false,
     "task": false
    }
   },
   "source": [
    "### TypeError"
   ]
  },
  {
   "cell_type": "code",
   "execution_count": null,
   "metadata": {
    "deletable": false,
    "editable": false,
    "nbgrader": {
     "cell_type": "code",
     "checksum": "cf09f41920c05715951dc3d72409d936",
     "grade": false,
     "grade_id": "cell-d6b28ea87221768b",
     "locked": true,
     "schema_version": 3,
     "solution": false,
     "task": false
    }
   },
   "outputs": [],
   "source": [
    "# Cannot divide string by number\n",
    "\n",
    "\"cat\"/2"
   ]
  },
  {
   "cell_type": "code",
   "execution_count": null,
   "metadata": {
    "deletable": false,
    "editable": false,
    "nbgrader": {
     "cell_type": "code",
     "checksum": "4aca7e13469fa09c28eb2ddcb60cf65b",
     "grade": false,
     "grade_id": "cell-9f9220bc85c8aa07",
     "locked": true,
     "schema_version": 3,
     "solution": false,
     "task": false
    }
   },
   "outputs": [],
   "source": [
    "ind_floats = [0.0, 1.0, 2.0]\n",
    "# ind_int = [0, 1, 2]\n",
    "mylist = [\"cat\", \"dog\", \"rat\"]\n",
    "\n",
    "for i in ind_floats:\n",
    "    print(mylist[i])"
   ]
  },
  {
   "cell_type": "code",
   "execution_count": null,
   "metadata": {
    "deletable": false,
    "editable": false,
    "nbgrader": {
     "cell_type": "code",
     "checksum": "61fe4379bf5f5e19011ee65fdfc63454",
     "grade": false,
     "grade_id": "cell-a69cfae0042bcc83",
     "locked": true,
     "schema_version": 3,
     "solution": false,
     "task": false
    }
   },
   "outputs": [],
   "source": [
    "# for i in range(len(mylist)):\n",
    "#     print(\"cat\")\n",
    "\n",
    "for i in range(mylist):\n",
    "    print(\"cat\")"
   ]
  },
  {
   "cell_type": "code",
   "execution_count": null,
   "metadata": {
    "deletable": false,
    "editable": false,
    "nbgrader": {
     "cell_type": "code",
     "checksum": "cb30054afad31a411a93000e1e1341f7",
     "grade": false,
     "grade_id": "cell-3199afa9a984ab7a",
     "locked": true,
     "schema_version": 3,
     "solution": false,
     "task": false
    }
   },
   "outputs": [],
   "source": [
    "# Build-in function sum(), summs elements of list\n",
    "print(sum([1,2,3]))\n",
    "\n",
    "# Assigning variable to reserved names\n",
    "sum = 10\n",
    "# Now `sum` is variable with value 10 and we cannot use it as a sum function\n",
    "print(sum([1,2,3]))\n",
    "\n",
    "# Restart kernel to restore build-in function"
   ]
  }
 ],
 "metadata": {
  "kernelspec": {
   "display_name": "Python 3",
   "language": "python",
   "name": "python3"
  },
  "language_info": {
   "codemirror_mode": {
    "name": "ipython",
    "version": 3
   },
   "file_extension": ".py",
   "mimetype": "text/x-python",
   "name": "python",
   "nbconvert_exporter": "python",
   "pygments_lexer": "ipython3",
   "version": "3.9.5"
  },
  "nbdime-conflicts": {
   "local_diff": [
    {
     "diff": [
      {
       "diff": [
        {
         "diff": [
          {
           "key": 4,
           "op": "addrange",
           "valuelist": "3"
          },
          {
           "key": 4,
           "length": 1,
           "op": "removerange"
          }
         ],
         "key": 0,
         "op": "patch"
        }
       ],
       "key": "version",
       "op": "patch"
      }
     ],
     "key": "language_info",
     "op": "patch"
    }
   ],
   "remote_diff": [
    {
     "diff": [
      {
       "diff": [
        {
         "diff": [
          {
           "key": 4,
           "op": "addrange",
           "valuelist": "4"
          },
          {
           "key": 4,
           "length": 1,
           "op": "removerange"
          }
         ],
         "key": 0,
         "op": "patch"
        }
       ],
       "key": "version",
       "op": "patch"
      }
     ],
     "key": "language_info",
     "op": "patch"
    }
   ]
  },
  "toc": {
   "base_numbering": 1,
   "nav_menu": {},
   "number_sections": false,
   "sideBar": true,
   "skip_h1_title": false,
   "title_cell": "Table of Contents",
   "title_sidebar": "Contents",
   "toc_cell": false,
   "toc_position": {
    "height": "507.275px",
    "left": "23.975px",
    "top": "145.5px",
    "width": "233.9791717529297px"
   },
   "toc_section_display": true,
   "toc_window_display": true
  },
  "varInspector": {
   "cols": {
    "lenName": 16,
    "lenType": 16,
    "lenVar": 40
   },
   "kernels_config": {
    "python": {
     "delete_cmd_postfix": "",
     "delete_cmd_prefix": "del ",
     "library": "var_list.py",
     "varRefreshCmd": "print(var_dic_list())"
    },
    "r": {
     "delete_cmd_postfix": ") ",
     "delete_cmd_prefix": "rm(",
     "library": "var_list.r",
     "varRefreshCmd": "cat(var_dic_list()) "
    }
   },
   "oldHeight": 194.85,
   "position": {
    "height": "216.85px",
    "left": "1417px",
    "right": "18px",
    "top": "126px",
    "width": "485px"
   },
   "types_to_exclude": [
    "module",
    "function",
    "builtin_function_or_method",
    "instance",
    "_Feature"
   ],
   "varInspector_section_display": "block",
   "window_display": false
  }
 },
 "nbformat": 4,
 "nbformat_minor": 2
}
